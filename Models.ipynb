{
 "cells": [
  {
   "cell_type": "code",
   "execution_count": 1,
   "metadata": {},
   "outputs": [],
   "source": [
    "# Data Management\n",
    "import pandas as pd\n",
    "import numpy as np\n",
    "\n",
    "# Data Visualization\n",
    "import matplotlib.pyplot as plt\n",
    "%matplotlib inline\n",
    "import seaborn as sns\n",
    "sns.set_style(\"whitegrid\")\n",
    "\n",
    "# Data splitting\n",
    "from sklearn.model_selection import train_test_split\n",
    "\n",
    "# Hyperparameter selection\n",
    "from sklearn.model_selection import GridSearchCV\n",
    "\n",
    "# Feature Selection\n",
    "from sklearn.feature_selection import SelectKBest, chi2, RFE\n",
    "\n",
    "# Modeling\n",
    "from sklearn.tree import DecisionTreeClassifier\n",
    "from sklearn.neighbors import KNeighborsClassifier\n",
    "from sklearn.linear_model import LogisticRegression\n",
    "from sklearn.ensemble import RandomForestClassifier\n",
    "from sklearn.naive_bayes import GaussianNB\n",
    "\n",
    "from statsmodels.discrete.discrete_model import Logit\n",
    "import statsmodels.tools as sm\n",
    "\n",
    "# Model Evaluation\n",
    "from sklearn.metrics import accuracy_score, classification_report, precision_score, recall_score, confusion_matrix, roc_auc_score, roc_curve\n",
    "import itertools"
   ]
  },
  {
   "cell_type": "markdown",
   "metadata": {},
   "source": [
    "# Data Cleaning"
   ]
  },
  {
   "cell_type": "code",
   "execution_count": 2,
   "metadata": {},
   "outputs": [
    {
     "name": "stdout",
     "output_type": "stream",
     "text": [
      "The original data contains \u001b[1m471\u001b[0m observations, while after the applied changes there are \u001b[1m456\u001b[0m left.\n"
     ]
    },
    {
     "data": {
      "text/html": [
       "<div>\n",
       "<style scoped>\n",
       "    .dataframe tbody tr th:only-of-type {\n",
       "        vertical-align: middle;\n",
       "    }\n",
       "\n",
       "    .dataframe tbody tr th {\n",
       "        vertical-align: top;\n",
       "    }\n",
       "\n",
       "    .dataframe thead th {\n",
       "        text-align: right;\n",
       "    }\n",
       "</style>\n",
       "<table border=\"1\" class=\"dataframe\">\n",
       "  <thead>\n",
       "    <tr style=\"text-align: right;\">\n",
       "      <th></th>\n",
       "      <th>Death_1yr</th>\n",
       "      <th>Diagnosis</th>\n",
       "      <th>FVC</th>\n",
       "      <th>FEV1</th>\n",
       "      <th>Performance</th>\n",
       "      <th>Pain</th>\n",
       "      <th>Haemoptysis</th>\n",
       "      <th>Dyspnoea</th>\n",
       "      <th>Cough</th>\n",
       "      <th>Weakness</th>\n",
       "      <th>Tumor_Size</th>\n",
       "      <th>Diabetes_Mellitus</th>\n",
       "      <th>MI_6mo</th>\n",
       "      <th>PAD</th>\n",
       "      <th>Smoking</th>\n",
       "      <th>Asthma</th>\n",
       "      <th>Age</th>\n",
       "    </tr>\n",
       "  </thead>\n",
       "  <tbody>\n",
       "    <tr>\n",
       "      <th>0</th>\n",
       "      <td>0</td>\n",
       "      <td>DGN2</td>\n",
       "      <td>2.88</td>\n",
       "      <td>2.16</td>\n",
       "      <td>2</td>\n",
       "      <td>0</td>\n",
       "      <td>0</td>\n",
       "      <td>0</td>\n",
       "      <td>1</td>\n",
       "      <td>1</td>\n",
       "      <td>4</td>\n",
       "      <td>0</td>\n",
       "      <td>0</td>\n",
       "      <td>0</td>\n",
       "      <td>1</td>\n",
       "      <td>0</td>\n",
       "      <td>60</td>\n",
       "    </tr>\n",
       "    <tr>\n",
       "      <th>1</th>\n",
       "      <td>0</td>\n",
       "      <td>DGN3</td>\n",
       "      <td>3.40</td>\n",
       "      <td>1.88</td>\n",
       "      <td>1</td>\n",
       "      <td>0</td>\n",
       "      <td>0</td>\n",
       "      <td>0</td>\n",
       "      <td>0</td>\n",
       "      <td>0</td>\n",
       "      <td>2</td>\n",
       "      <td>0</td>\n",
       "      <td>0</td>\n",
       "      <td>0</td>\n",
       "      <td>1</td>\n",
       "      <td>0</td>\n",
       "      <td>51</td>\n",
       "    </tr>\n",
       "    <tr>\n",
       "      <th>2</th>\n",
       "      <td>0</td>\n",
       "      <td>DGN3</td>\n",
       "      <td>2.76</td>\n",
       "      <td>2.08</td>\n",
       "      <td>2</td>\n",
       "      <td>0</td>\n",
       "      <td>0</td>\n",
       "      <td>0</td>\n",
       "      <td>1</td>\n",
       "      <td>0</td>\n",
       "      <td>1</td>\n",
       "      <td>0</td>\n",
       "      <td>0</td>\n",
       "      <td>0</td>\n",
       "      <td>1</td>\n",
       "      <td>0</td>\n",
       "      <td>59</td>\n",
       "    </tr>\n",
       "    <tr>\n",
       "      <th>3</th>\n",
       "      <td>0</td>\n",
       "      <td>DGN3</td>\n",
       "      <td>3.68</td>\n",
       "      <td>3.04</td>\n",
       "      <td>1</td>\n",
       "      <td>0</td>\n",
       "      <td>0</td>\n",
       "      <td>0</td>\n",
       "      <td>0</td>\n",
       "      <td>0</td>\n",
       "      <td>1</td>\n",
       "      <td>0</td>\n",
       "      <td>0</td>\n",
       "      <td>0</td>\n",
       "      <td>0</td>\n",
       "      <td>0</td>\n",
       "      <td>54</td>\n",
       "    </tr>\n",
       "    <tr>\n",
       "      <th>4</th>\n",
       "      <td>1</td>\n",
       "      <td>DGN3</td>\n",
       "      <td>2.44</td>\n",
       "      <td>0.96</td>\n",
       "      <td>3</td>\n",
       "      <td>0</td>\n",
       "      <td>1</td>\n",
       "      <td>0</td>\n",
       "      <td>1</td>\n",
       "      <td>1</td>\n",
       "      <td>1</td>\n",
       "      <td>0</td>\n",
       "      <td>0</td>\n",
       "      <td>0</td>\n",
       "      <td>1</td>\n",
       "      <td>0</td>\n",
       "      <td>73</td>\n",
       "    </tr>\n",
       "  </tbody>\n",
       "</table>\n",
       "</div>"
      ],
      "text/plain": [
       "   Death_1yr Diagnosis   FVC  FEV1  Performance  Pain  Haemoptysis  Dyspnoea  \\\n",
       "0          0      DGN2  2.88  2.16            2     0            0         0   \n",
       "1          0      DGN3  3.40  1.88            1     0            0         0   \n",
       "2          0      DGN3  2.76  2.08            2     0            0         0   \n",
       "3          0      DGN3  3.68  3.04            1     0            0         0   \n",
       "4          1      DGN3  2.44  0.96            3     0            1         0   \n",
       "\n",
       "   Cough  Weakness  Tumor_Size  Diabetes_Mellitus  MI_6mo  PAD  Smoking  \\\n",
       "0      1         1           4                  0       0    0        1   \n",
       "1      0         0           2                  0       0    0        1   \n",
       "2      1         0           1                  0       0    0        1   \n",
       "3      0         0           1                  0       0    0        0   \n",
       "4      1         1           1                  0       0    0        1   \n",
       "\n",
       "   Asthma  Age  \n",
       "0       0   60  \n",
       "1       0   51  \n",
       "2       0   59  \n",
       "3       0   54  \n",
       "4       0   73  "
      ]
     },
     "execution_count": 2,
     "metadata": {},
     "output_type": "execute_result"
    }
   ],
   "source": [
    "data = pd.read_csv('Surgery_Data.csv')\n",
    "\n",
    "def data_cleaning(data):\n",
    "\n",
    "    # converting into binary variables\n",
    "    data[['Risk1Yr', 'PRE7', 'PRE8', 'PRE9', 'PRE10', 'PRE11', 'PRE17', 'PRE19', 'PRE25', 'PRE30', 'PRE32']] = \\\n",
    "    (data[[ 'Risk1Yr', 'PRE7', 'PRE8', 'PRE9', 'PRE10', 'PRE11', 'PRE17', 'PRE19', 'PRE25', 'PRE30', 'PRE32']] == 'T').astype(int)\n",
    "\n",
    "    # converting into categorical variables\n",
    "    #data['DGN'] = data.DGN.str[-1:].astype(int)\n",
    "    #data['PRE6'] = data.replace(['PRZ0', 'PRZ1', 'PRZ2'], [1, 2, 3])\n",
    "    data['PRE14'] = data.PRE14.str[-1:].astype(int)\n",
    "\n",
    "    # renaming data variables\n",
    "    col_names = {'Risk1Yr': 'Death_1yr', 'DGN': 'Diagnosis', 'PRE4': 'FVC', 'PRE5': 'FEV1', 'PRE6': 'Performance', \n",
    "                'PRE7': 'Pain', 'PRE8': 'Haemoptysis', 'PRE9': 'Dyspnoea', 'PRE10': 'Cough', 'PRE11': 'Weakness',\n",
    "                'PRE14': 'Tumor_Size', 'PRE17': 'Diabetes_Mellitus', 'PRE19': 'MI_6mo', 'PRE25': 'PAD',\n",
    "                'PRE30': 'Smoking', 'PRE32': 'Asthma', 'AGE': 'Age'}\n",
    "    data = data.rename(index=str, columns=col_names)\n",
    "\n",
    "    df = data[data.Age > 30]\n",
    "    df = data[data.FEV1 < 8]\n",
    "\n",
    "    print('The original data contains \\033[1m' + str(len(data)) + '\\033[0m observations, while after the applied changes there are \\033[1m' + str(len(df)) + '\\033[0m left.')\n",
    "    \n",
    "    return df\n",
    "\n",
    "data = data_cleaning(data)\n",
    "\n",
    "# Performance: replace values to be 1-3 (Good-Poor)\n",
    "data = data.replace(['PRZ0', 'PRZ1', 'PRZ2'], [1, 2, 3])\n",
    "\n",
    "data.head()"
   ]
  },
  {
   "cell_type": "code",
   "execution_count": 3,
   "metadata": {},
   "outputs": [
    {
     "data": {
      "text/plain": [
       "DGN3    342\n",
       "DGN2     49\n",
       "DGN4     45\n",
       "DGN5     13\n",
       "DGN6      4\n",
       "DGN8      2\n",
       "DGN1      1\n",
       "Name: Diagnosis, dtype: int64"
      ]
     },
     "execution_count": 3,
     "metadata": {},
     "output_type": "execute_result"
    }
   ],
   "source": [
    "data.Diagnosis.value_counts()"
   ]
  },
  {
   "cell_type": "code",
   "execution_count": 4,
   "metadata": {},
   "outputs": [
    {
     "data": {
      "text/html": [
       "<div>\n",
       "<style scoped>\n",
       "    .dataframe tbody tr th:only-of-type {\n",
       "        vertical-align: middle;\n",
       "    }\n",
       "\n",
       "    .dataframe tbody tr th {\n",
       "        vertical-align: top;\n",
       "    }\n",
       "\n",
       "    .dataframe thead th {\n",
       "        text-align: right;\n",
       "    }\n",
       "</style>\n",
       "<table border=\"1\" class=\"dataframe\">\n",
       "  <thead>\n",
       "    <tr style=\"text-align: right;\">\n",
       "      <th></th>\n",
       "      <th>Death_1yr</th>\n",
       "      <th>FVC</th>\n",
       "      <th>FEV1</th>\n",
       "      <th>Performance</th>\n",
       "      <th>Pain</th>\n",
       "      <th>Haemoptysis</th>\n",
       "      <th>Dyspnoea</th>\n",
       "      <th>Cough</th>\n",
       "      <th>Weakness</th>\n",
       "      <th>Tumor_Size</th>\n",
       "      <th>Diabetes_Mellitus</th>\n",
       "      <th>MI_6mo</th>\n",
       "      <th>PAD</th>\n",
       "      <th>Smoking</th>\n",
       "      <th>Asthma</th>\n",
       "      <th>Age</th>\n",
       "      <th>DGN2</th>\n",
       "      <th>DGN3</th>\n",
       "      <th>DGN4</th>\n",
       "    </tr>\n",
       "  </thead>\n",
       "  <tbody>\n",
       "    <tr>\n",
       "      <th>0</th>\n",
       "      <td>0</td>\n",
       "      <td>2.88</td>\n",
       "      <td>2.16</td>\n",
       "      <td>2</td>\n",
       "      <td>0</td>\n",
       "      <td>0</td>\n",
       "      <td>0</td>\n",
       "      <td>1</td>\n",
       "      <td>1</td>\n",
       "      <td>4</td>\n",
       "      <td>0</td>\n",
       "      <td>0</td>\n",
       "      <td>0</td>\n",
       "      <td>1</td>\n",
       "      <td>0</td>\n",
       "      <td>60</td>\n",
       "      <td>1</td>\n",
       "      <td>0</td>\n",
       "      <td>0</td>\n",
       "    </tr>\n",
       "    <tr>\n",
       "      <th>1</th>\n",
       "      <td>0</td>\n",
       "      <td>3.40</td>\n",
       "      <td>1.88</td>\n",
       "      <td>1</td>\n",
       "      <td>0</td>\n",
       "      <td>0</td>\n",
       "      <td>0</td>\n",
       "      <td>0</td>\n",
       "      <td>0</td>\n",
       "      <td>2</td>\n",
       "      <td>0</td>\n",
       "      <td>0</td>\n",
       "      <td>0</td>\n",
       "      <td>1</td>\n",
       "      <td>0</td>\n",
       "      <td>51</td>\n",
       "      <td>0</td>\n",
       "      <td>1</td>\n",
       "      <td>0</td>\n",
       "    </tr>\n",
       "    <tr>\n",
       "      <th>2</th>\n",
       "      <td>0</td>\n",
       "      <td>2.76</td>\n",
       "      <td>2.08</td>\n",
       "      <td>2</td>\n",
       "      <td>0</td>\n",
       "      <td>0</td>\n",
       "      <td>0</td>\n",
       "      <td>1</td>\n",
       "      <td>0</td>\n",
       "      <td>1</td>\n",
       "      <td>0</td>\n",
       "      <td>0</td>\n",
       "      <td>0</td>\n",
       "      <td>1</td>\n",
       "      <td>0</td>\n",
       "      <td>59</td>\n",
       "      <td>0</td>\n",
       "      <td>1</td>\n",
       "      <td>0</td>\n",
       "    </tr>\n",
       "    <tr>\n",
       "      <th>3</th>\n",
       "      <td>0</td>\n",
       "      <td>3.68</td>\n",
       "      <td>3.04</td>\n",
       "      <td>1</td>\n",
       "      <td>0</td>\n",
       "      <td>0</td>\n",
       "      <td>0</td>\n",
       "      <td>0</td>\n",
       "      <td>0</td>\n",
       "      <td>1</td>\n",
       "      <td>0</td>\n",
       "      <td>0</td>\n",
       "      <td>0</td>\n",
       "      <td>0</td>\n",
       "      <td>0</td>\n",
       "      <td>54</td>\n",
       "      <td>0</td>\n",
       "      <td>1</td>\n",
       "      <td>0</td>\n",
       "    </tr>\n",
       "    <tr>\n",
       "      <th>4</th>\n",
       "      <td>1</td>\n",
       "      <td>2.44</td>\n",
       "      <td>0.96</td>\n",
       "      <td>3</td>\n",
       "      <td>0</td>\n",
       "      <td>1</td>\n",
       "      <td>0</td>\n",
       "      <td>1</td>\n",
       "      <td>1</td>\n",
       "      <td>1</td>\n",
       "      <td>0</td>\n",
       "      <td>0</td>\n",
       "      <td>0</td>\n",
       "      <td>1</td>\n",
       "      <td>0</td>\n",
       "      <td>73</td>\n",
       "      <td>0</td>\n",
       "      <td>1</td>\n",
       "      <td>0</td>\n",
       "    </tr>\n",
       "  </tbody>\n",
       "</table>\n",
       "</div>"
      ],
      "text/plain": [
       "   Death_1yr   FVC  FEV1  Performance  Pain  Haemoptysis  Dyspnoea  Cough  \\\n",
       "0          0  2.88  2.16            2     0            0         0      1   \n",
       "1          0  3.40  1.88            1     0            0         0      0   \n",
       "2          0  2.76  2.08            2     0            0         0      1   \n",
       "3          0  3.68  3.04            1     0            0         0      0   \n",
       "4          1  2.44  0.96            3     0            1         0      1   \n",
       "\n",
       "   Weakness  Tumor_Size  Diabetes_Mellitus  MI_6mo  PAD  Smoking  Asthma  Age  \\\n",
       "0         1           4                  0       0    0        1       0   60   \n",
       "1         0           2                  0       0    0        1       0   51   \n",
       "2         0           1                  0       0    0        1       0   59   \n",
       "3         0           1                  0       0    0        0       0   54   \n",
       "4         1           1                  0       0    0        1       0   73   \n",
       "\n",
       "   DGN2  DGN3  DGN4  \n",
       "0     1     0     0  \n",
       "1     0     1     0  \n",
       "2     0     1     0  \n",
       "3     0     1     0  \n",
       "4     0     1     0  "
      ]
     },
     "execution_count": 4,
     "metadata": {},
     "output_type": "execute_result"
    }
   ],
   "source": [
    "# Diagnosis: get dummies and keep only significant ones\n",
    "diag = pd.get_dummies(data.Diagnosis)\n",
    "\n",
    "diag = diag.drop('DGN1', axis = 1)\n",
    "#diag = diag.drop('DGN2', axis = 1)\n",
    "#diag = diag.drop('DGN4', axis = 1)\n",
    "diag = diag.drop('DGN5', axis = 1)\n",
    "diag = diag.drop('DGN6', axis = 1)\n",
    "diag = diag.drop('DGN8', axis = 1)\n",
    "diag.head()\n",
    "\n",
    "# Dropping department as we don't need it any more\n",
    "data = data.drop('Diagnosis', axis=1)\n",
    "\n",
    "# Joining the dummy vars of departments to our main data\n",
    "data = data.join(diag)\n",
    "\n",
    "data.head()"
   ]
  },
  {
   "cell_type": "markdown",
   "metadata": {},
   "source": [
    "# statsmodels for the whole data"
   ]
  },
  {
   "cell_type": "code",
   "execution_count": 5,
   "metadata": {},
   "outputs": [
    {
     "name": "stdout",
     "output_type": "stream",
     "text": [
      "Warning: Maximum number of iterations has been exceeded.\n",
      "         Current function value: 0.373531\n",
      "         Iterations: 35\n"
     ]
    },
    {
     "name": "stderr",
     "output_type": "stream",
     "text": [
      "C:\\Users\\Anna Danielyan\\Anaconda3\\lib\\site-packages\\statsmodels\\base\\model.py:508: ConvergenceWarning: Maximum Likelihood optimization failed to converge. Check mle_retvals\n",
      "  \"Check mle_retvals\", ConvergenceWarning)\n"
     ]
    },
    {
     "data": {
      "text/html": [
       "<table class=\"simpletable\">\n",
       "<caption>Logit Regression Results</caption>\n",
       "<tr>\n",
       "  <th>Dep. Variable:</th>     <td>Death_1yr</td>    <th>  No. Observations:  </th>  <td>   456</td>  \n",
       "</tr>\n",
       "<tr>\n",
       "  <th>Model:</th>               <td>Logit</td>      <th>  Df Residuals:      </th>  <td>   437</td>  \n",
       "</tr>\n",
       "<tr>\n",
       "  <th>Method:</th>               <td>MLE</td>       <th>  Df Model:          </th>  <td>    18</td>  \n",
       "</tr>\n",
       "<tr>\n",
       "  <th>Date:</th>          <td>Mon, 29 Apr 2019</td> <th>  Pseudo R-squ.:     </th>  <td>0.1211</td>  \n",
       "</tr>\n",
       "<tr>\n",
       "  <th>Time:</th>              <td>12:11:10</td>     <th>  Log-Likelihood:    </th> <td> -170.33</td> \n",
       "</tr>\n",
       "<tr>\n",
       "  <th>converged:</th>           <td>False</td>      <th>  LL-Null:           </th> <td> -193.79</td> \n",
       "</tr>\n",
       "<tr>\n",
       "  <th> </th>                      <td> </td>        <th>  LLR p-value:       </th> <td>0.0002171</td>\n",
       "</tr>\n",
       "</table>\n",
       "<table class=\"simpletable\">\n",
       "<tr>\n",
       "          <td></td>             <th>coef</th>     <th>std err</th>      <th>z</th>      <th>P>|z|</th>  <th>[0.025</th>    <th>0.975]</th>  \n",
       "</tr>\n",
       "<tr>\n",
       "  <th>Intercept</th>         <td>   -0.4155</td> <td>    1.634</td> <td>   -0.254</td> <td> 0.799</td> <td>   -3.618</td> <td>    2.787</td>\n",
       "</tr>\n",
       "<tr>\n",
       "  <th>FVC</th>               <td>    0.0641</td> <td>    0.354</td> <td>    0.181</td> <td> 0.856</td> <td>   -0.630</td> <td>    0.758</td>\n",
       "</tr>\n",
       "<tr>\n",
       "  <th>FEV1</th>              <td>   -0.3889</td> <td>    0.418</td> <td>   -0.931</td> <td> 0.352</td> <td>   -1.208</td> <td>    0.430</td>\n",
       "</tr>\n",
       "<tr>\n",
       "  <th>Performance</th>       <td>   -0.2338</td> <td>    0.398</td> <td>   -0.588</td> <td> 0.557</td> <td>   -1.014</td> <td>    0.546</td>\n",
       "</tr>\n",
       "<tr>\n",
       "  <th>Pain</th>              <td>    0.8667</td> <td>    0.541</td> <td>    1.602</td> <td> 0.109</td> <td>   -0.193</td> <td>    1.927</td>\n",
       "</tr>\n",
       "<tr>\n",
       "  <th>Haemoptysis</th>       <td>    0.2397</td> <td>    0.387</td> <td>    0.619</td> <td> 0.536</td> <td>   -0.519</td> <td>    0.999</td>\n",
       "</tr>\n",
       "<tr>\n",
       "  <th>Dyspnoea</th>          <td>    1.1883</td> <td>    0.491</td> <td>    2.420</td> <td> 0.016</td> <td>    0.226</td> <td>    2.151</td>\n",
       "</tr>\n",
       "<tr>\n",
       "  <th>Cough</th>             <td>    0.5600</td> <td>    0.450</td> <td>    1.245</td> <td> 0.213</td> <td>   -0.322</td> <td>    1.442</td>\n",
       "</tr>\n",
       "<tr>\n",
       "  <th>Weakness</th>          <td>    0.6180</td> <td>    0.380</td> <td>    1.625</td> <td> 0.104</td> <td>   -0.128</td> <td>    1.364</td>\n",
       "</tr>\n",
       "<tr>\n",
       "  <th>Tumor_Size</th>        <td>    0.5331</td> <td>    0.186</td> <td>    2.864</td> <td> 0.004</td> <td>    0.168</td> <td>    0.898</td>\n",
       "</tr>\n",
       "<tr>\n",
       "  <th>Diabetes_Mellitus</th> <td>    0.8823</td> <td>    0.439</td> <td>    2.009</td> <td> 0.045</td> <td>    0.021</td> <td>    1.743</td>\n",
       "</tr>\n",
       "<tr>\n",
       "  <th>MI_6mo</th>            <td>  -22.3600</td> <td> 1.11e+05</td> <td>   -0.000</td> <td> 1.000</td> <td>-2.18e+05</td> <td> 2.18e+05</td>\n",
       "</tr>\n",
       "<tr>\n",
       "  <th>PAD</th>               <td>   -0.0412</td> <td>    0.980</td> <td>   -0.042</td> <td> 0.967</td> <td>   -1.962</td> <td>    1.880</td>\n",
       "</tr>\n",
       "<tr>\n",
       "  <th>Smoking</th>           <td>    0.8499</td> <td>    0.469</td> <td>    1.813</td> <td> 0.070</td> <td>   -0.069</td> <td>    1.769</td>\n",
       "</tr>\n",
       "<tr>\n",
       "  <th>Asthma</th>            <td>  -16.5832</td> <td> 9571.462</td> <td>   -0.002</td> <td> 0.999</td> <td>-1.88e+04</td> <td> 1.87e+04</td>\n",
       "</tr>\n",
       "<tr>\n",
       "  <th>Age</th>               <td>   -0.0139</td> <td>    0.018</td> <td>   -0.791</td> <td> 0.429</td> <td>   -0.048</td> <td>    0.020</td>\n",
       "</tr>\n",
       "<tr>\n",
       "  <th>DGN2</th>              <td>   -1.5451</td> <td>    0.642</td> <td>   -2.406</td> <td> 0.016</td> <td>   -2.804</td> <td>   -0.286</td>\n",
       "</tr>\n",
       "<tr>\n",
       "  <th>DGN3</th>              <td>   -2.0245</td> <td>    0.544</td> <td>   -3.722</td> <td> 0.000</td> <td>   -3.091</td> <td>   -0.958</td>\n",
       "</tr>\n",
       "<tr>\n",
       "  <th>DGN4</th>              <td>   -1.6008</td> <td>    0.664</td> <td>   -2.412</td> <td> 0.016</td> <td>   -2.901</td> <td>   -0.300</td>\n",
       "</tr>\n",
       "</table>"
      ],
      "text/plain": [
       "<class 'statsmodels.iolib.summary.Summary'>\n",
       "\"\"\"\n",
       "                           Logit Regression Results                           \n",
       "==============================================================================\n",
       "Dep. Variable:              Death_1yr   No. Observations:                  456\n",
       "Model:                          Logit   Df Residuals:                      437\n",
       "Method:                           MLE   Df Model:                           18\n",
       "Date:                Mon, 29 Apr 2019   Pseudo R-squ.:                  0.1211\n",
       "Time:                        12:11:10   Log-Likelihood:                -170.33\n",
       "converged:                      False   LL-Null:                       -193.79\n",
       "                                        LLR p-value:                 0.0002171\n",
       "=====================================================================================\n",
       "                        coef    std err          z      P>|z|      [0.025      0.975]\n",
       "-------------------------------------------------------------------------------------\n",
       "Intercept            -0.4155      1.634     -0.254      0.799      -3.618       2.787\n",
       "FVC                   0.0641      0.354      0.181      0.856      -0.630       0.758\n",
       "FEV1                 -0.3889      0.418     -0.931      0.352      -1.208       0.430\n",
       "Performance          -0.2338      0.398     -0.588      0.557      -1.014       0.546\n",
       "Pain                  0.8667      0.541      1.602      0.109      -0.193       1.927\n",
       "Haemoptysis           0.2397      0.387      0.619      0.536      -0.519       0.999\n",
       "Dyspnoea              1.1883      0.491      2.420      0.016       0.226       2.151\n",
       "Cough                 0.5600      0.450      1.245      0.213      -0.322       1.442\n",
       "Weakness              0.6180      0.380      1.625      0.104      -0.128       1.364\n",
       "Tumor_Size            0.5331      0.186      2.864      0.004       0.168       0.898\n",
       "Diabetes_Mellitus     0.8823      0.439      2.009      0.045       0.021       1.743\n",
       "MI_6mo              -22.3600   1.11e+05     -0.000      1.000   -2.18e+05    2.18e+05\n",
       "PAD                  -0.0412      0.980     -0.042      0.967      -1.962       1.880\n",
       "Smoking               0.8499      0.469      1.813      0.070      -0.069       1.769\n",
       "Asthma              -16.5832   9571.462     -0.002      0.999   -1.88e+04    1.87e+04\n",
       "Age                  -0.0139      0.018     -0.791      0.429      -0.048       0.020\n",
       "DGN2                 -1.5451      0.642     -2.406      0.016      -2.804      -0.286\n",
       "DGN3                 -2.0245      0.544     -3.722      0.000      -3.091      -0.958\n",
       "DGN4                 -1.6008      0.664     -2.412      0.016      -2.901      -0.300\n",
       "=====================================================================================\n",
       "\"\"\""
      ]
     },
     "execution_count": 5,
     "metadata": {},
     "output_type": "execute_result"
    }
   ],
   "source": [
    "# Building model for the whole data (no splitting here)\n",
    "X = data.drop(['Death_1yr'], axis=1)\n",
    "y = data.Death_1yr\n",
    "\n",
    "model_stat = Logit.from_formula(formula='Death_1yr~'+'+'.join(X.columns),data=data)\n",
    "results_stat = model_stat.fit()\n",
    "\n",
    "results_stat.summary()"
   ]
  },
  {
   "cell_type": "code",
   "execution_count": 6,
   "metadata": {},
   "outputs": [
    {
     "name": "stdout",
     "output_type": "stream",
     "text": [
      "Optimization terminated successfully.\n",
      "         Current function value: 0.387261\n",
      "         Iterations 6\n"
     ]
    },
    {
     "data": {
      "text/html": [
       "<table class=\"simpletable\">\n",
       "<caption>Logit Regression Results</caption>\n",
       "<tr>\n",
       "  <th>Dep. Variable:</th>     <td>Death_1yr</td>    <th>  No. Observations:  </th>  <td>   456</td>  \n",
       "</tr>\n",
       "<tr>\n",
       "  <th>Model:</th>               <td>Logit</td>      <th>  Df Residuals:      </th>  <td>   448</td>  \n",
       "</tr>\n",
       "<tr>\n",
       "  <th>Method:</th>               <td>MLE</td>       <th>  Df Model:          </th>  <td>     7</td>  \n",
       "</tr>\n",
       "<tr>\n",
       "  <th>Date:</th>          <td>Mon, 29 Apr 2019</td> <th>  Pseudo R-squ.:     </th>  <td>0.08876</td> \n",
       "</tr>\n",
       "<tr>\n",
       "  <th>Time:</th>              <td>12:11:10</td>     <th>  Log-Likelihood:    </th> <td> -176.59</td> \n",
       "</tr>\n",
       "<tr>\n",
       "  <th>converged:</th>           <td>True</td>       <th>  LL-Null:           </th> <td> -193.79</td> \n",
       "</tr>\n",
       "<tr>\n",
       "  <th> </th>                      <td> </td>        <th>  LLR p-value:       </th> <td>1.447e-05</td>\n",
       "</tr>\n",
       "</table>\n",
       "<table class=\"simpletable\">\n",
       "<tr>\n",
       "          <td></td>             <th>coef</th>     <th>std err</th>      <th>z</th>      <th>P>|z|</th>  <th>[0.025</th>    <th>0.975]</th>  \n",
       "</tr>\n",
       "<tr>\n",
       "  <th>Intercept</th>         <td>   -1.6403</td> <td>    0.566</td> <td>   -2.896</td> <td> 0.004</td> <td>   -2.750</td> <td>   -0.530</td>\n",
       "</tr>\n",
       "<tr>\n",
       "  <th>Dyspnoea</th>          <td>    1.1500</td> <td>    0.470</td> <td>    2.446</td> <td> 0.014</td> <td>    0.229</td> <td>    2.071</td>\n",
       "</tr>\n",
       "<tr>\n",
       "  <th>Weakness</th>          <td>    0.6402</td> <td>    0.329</td> <td>    1.948</td> <td> 0.051</td> <td>   -0.004</td> <td>    1.284</td>\n",
       "</tr>\n",
       "<tr>\n",
       "  <th>Tumor_Size</th>        <td>    0.5852</td> <td>    0.181</td> <td>    3.241</td> <td> 0.001</td> <td>    0.231</td> <td>    0.939</td>\n",
       "</tr>\n",
       "<tr>\n",
       "  <th>Diabetes_Mellitus</th> <td>    0.9058</td> <td>    0.423</td> <td>    2.143</td> <td> 0.032</td> <td>    0.077</td> <td>    1.734</td>\n",
       "</tr>\n",
       "<tr>\n",
       "  <th>DGN2</th>              <td>   -1.2218</td> <td>    0.610</td> <td>   -2.004</td> <td> 0.045</td> <td>   -2.417</td> <td>   -0.027</td>\n",
       "</tr>\n",
       "<tr>\n",
       "  <th>DGN3</th>              <td>   -1.6683</td> <td>    0.504</td> <td>   -3.308</td> <td> 0.001</td> <td>   -2.657</td> <td>   -0.680</td>\n",
       "</tr>\n",
       "<tr>\n",
       "  <th>DGN4</th>              <td>   -1.3302</td> <td>    0.632</td> <td>   -2.103</td> <td> 0.035</td> <td>   -2.570</td> <td>   -0.091</td>\n",
       "</tr>\n",
       "</table>"
      ],
      "text/plain": [
       "<class 'statsmodels.iolib.summary.Summary'>\n",
       "\"\"\"\n",
       "                           Logit Regression Results                           \n",
       "==============================================================================\n",
       "Dep. Variable:              Death_1yr   No. Observations:                  456\n",
       "Model:                          Logit   Df Residuals:                      448\n",
       "Method:                           MLE   Df Model:                            7\n",
       "Date:                Mon, 29 Apr 2019   Pseudo R-squ.:                 0.08876\n",
       "Time:                        12:11:10   Log-Likelihood:                -176.59\n",
       "converged:                       True   LL-Null:                       -193.79\n",
       "                                        LLR p-value:                 1.447e-05\n",
       "=====================================================================================\n",
       "                        coef    std err          z      P>|z|      [0.025      0.975]\n",
       "-------------------------------------------------------------------------------------\n",
       "Intercept            -1.6403      0.566     -2.896      0.004      -2.750      -0.530\n",
       "Dyspnoea              1.1500      0.470      2.446      0.014       0.229       2.071\n",
       "Weakness              0.6402      0.329      1.948      0.051      -0.004       1.284\n",
       "Tumor_Size            0.5852      0.181      3.241      0.001       0.231       0.939\n",
       "Diabetes_Mellitus     0.9058      0.423      2.143      0.032       0.077       1.734\n",
       "DGN2                 -1.2218      0.610     -2.004      0.045      -2.417      -0.027\n",
       "DGN3                 -1.6683      0.504     -3.308      0.001      -2.657      -0.680\n",
       "DGN4                 -1.3302      0.632     -2.103      0.035      -2.570      -0.091\n",
       "=====================================================================================\n",
       "\"\"\""
      ]
     },
     "execution_count": 6,
     "metadata": {},
     "output_type": "execute_result"
    }
   ],
   "source": [
    "# Dropping almost all insignificant features and rerunning the same model as above\n",
    "X = data.drop(['Death_1yr', 'MI_6mo', 'Asthma', 'FVC', 'PAD', 'Performance', 'Age', 'Cough', 'Haemoptysis', 'FEV1', 'Pain', 'Smoking'], axis=1)\n",
    "y = data.Death_1yr\n",
    "\n",
    "model_stat = Logit.from_formula(formula='Death_1yr~'+'+'.join(X.columns),data=data)\n",
    "results_stat = model_stat.fit()\n",
    "\n",
    "results_stat.summary()"
   ]
  },
  {
   "cell_type": "code",
   "execution_count": 7,
   "metadata": {},
   "outputs": [
    {
     "data": {
      "text/html": [
       "<table class=\"simpletable\">\n",
       "<caption>Logit Marginal Effects</caption>\n",
       "<tr>\n",
       "  <th>Dep. Variable:</th> <td>Death_1yr</td>\n",
       "</tr>\n",
       "<tr>\n",
       "  <th>Method:</th>          <td>dydx</td>   \n",
       "</tr>\n",
       "<tr>\n",
       "  <th>At:</th>             <td>overall</td> \n",
       "</tr>\n",
       "</table>\n",
       "<table class=\"simpletable\">\n",
       "<tr>\n",
       "          <th></th>             <th>dy/dx</th>    <th>std err</th>      <th>z</th>      <th>P>|z|</th>  <th>[0.025</th>    <th>0.975]</th>  \n",
       "</tr>\n",
       "<tr>\n",
       "  <th>Dyspnoea</th>          <td>    0.1345</td> <td>    0.054</td> <td>    2.475</td> <td> 0.013</td> <td>    0.028</td> <td>    0.241</td>\n",
       "</tr>\n",
       "<tr>\n",
       "  <th>Weakness</th>          <td>    0.0749</td> <td>    0.038</td> <td>    1.958</td> <td> 0.050</td> <td>-7.49e-05</td> <td>    0.150</td>\n",
       "</tr>\n",
       "<tr>\n",
       "  <th>Tumor_Size</th>        <td>    0.0684</td> <td>    0.021</td> <td>    3.305</td> <td> 0.001</td> <td>    0.028</td> <td>    0.109</td>\n",
       "</tr>\n",
       "<tr>\n",
       "  <th>Diabetes_Mellitus</th> <td>    0.1059</td> <td>    0.049</td> <td>    2.164</td> <td> 0.030</td> <td>    0.010</td> <td>    0.202</td>\n",
       "</tr>\n",
       "<tr>\n",
       "  <th>DGN2</th>              <td>   -0.1429</td> <td>    0.071</td> <td>   -2.026</td> <td> 0.043</td> <td>   -0.281</td> <td>   -0.005</td>\n",
       "</tr>\n",
       "<tr>\n",
       "  <th>DGN3</th>              <td>   -0.1951</td> <td>    0.057</td> <td>   -3.400</td> <td> 0.001</td> <td>   -0.308</td> <td>   -0.083</td>\n",
       "</tr>\n",
       "<tr>\n",
       "  <th>DGN4</th>              <td>   -0.1556</td> <td>    0.073</td> <td>   -2.131</td> <td> 0.033</td> <td>   -0.299</td> <td>   -0.013</td>\n",
       "</tr>\n",
       "</table>"
      ],
      "text/plain": [
       "<class 'statsmodels.iolib.summary.Summary'>\n",
       "\"\"\"\n",
       "        Logit Marginal Effects       \n",
       "=====================================\n",
       "Dep. Variable:              Death_1yr\n",
       "Method:                          dydx\n",
       "At:                           overall\n",
       "=====================================================================================\n",
       "                       dy/dx    std err          z      P>|z|      [0.025      0.975]\n",
       "-------------------------------------------------------------------------------------\n",
       "Dyspnoea              0.1345      0.054      2.475      0.013       0.028       0.241\n",
       "Weakness              0.0749      0.038      1.958      0.050   -7.49e-05       0.150\n",
       "Tumor_Size            0.0684      0.021      3.305      0.001       0.028       0.109\n",
       "Diabetes_Mellitus     0.1059      0.049      2.164      0.030       0.010       0.202\n",
       "DGN2                 -0.1429      0.071     -2.026      0.043      -0.281      -0.005\n",
       "DGN3                 -0.1951      0.057     -3.400      0.001      -0.308      -0.083\n",
       "DGN4                 -0.1556      0.073     -2.131      0.033      -0.299      -0.013\n",
       "=====================================================================================\n",
       "\"\"\""
      ]
     },
     "execution_count": 7,
     "metadata": {},
     "output_type": "execute_result"
    }
   ],
   "source": [
    "results_stat.get_margeff().summary()"
   ]
  },
  {
   "cell_type": "code",
   "execution_count": 8,
   "metadata": {},
   "outputs": [
    {
     "data": {
      "text/plain": [
       "0    0.529689\n",
       "1    0.105433\n",
       "2    0.061604\n",
       "3    0.061604\n",
       "4    0.110741\n",
       "dtype: float64"
      ]
     },
     "execution_count": 8,
     "metadata": {},
     "output_type": "execute_result"
    }
   ],
   "source": [
    "# Getting probabilities for each observation of being 1\n",
    "probab_stat = results_stat.predict(X)\n",
    "probab_stat.head()"
   ]
  },
  {
   "cell_type": "code",
   "execution_count": 9,
   "metadata": {},
   "outputs": [
    {
     "data": {
      "text/plain": [
       "array([[382.,  64.],\n",
       "       [  5.,   5.]])"
      ]
     },
     "execution_count": 9,
     "metadata": {},
     "output_type": "execute_result"
    }
   ],
   "source": [
    "# Getting confusion matrix for the whole dataset\n",
    "cnf_matrix_stat = results_stat.pred_table().T\n",
    "cnf_matrix_stat"
   ]
  },
  {
   "cell_type": "code",
   "execution_count": 10,
   "metadata": {},
   "outputs": [
    {
     "name": "stdout",
     "output_type": "stream",
     "text": [
      "Accuracy: \n",
      " 0.8486842105263158\n",
      "Sensitivity: \n",
      " 0.5\n",
      "Specificity: \n",
      " 0.8565022421524664\n"
     ]
    }
   ],
   "source": [
    "print(\"Accuracy: \\n\", (cnf_matrix_stat[0,0]+cnf_matrix_stat[1,1])/len(data))\n",
    "print(\"Sensitivity: \\n\",cnf_matrix_stat[1,1]/(cnf_matrix_stat[1,1]+cnf_matrix_stat[1,0]))\n",
    "print(\"Specificity: \\n\",cnf_matrix_stat[0,0]/(cnf_matrix_stat[0,0]+cnf_matrix_stat[0,1]))"
   ]
  },
  {
   "cell_type": "markdown",
   "metadata": {},
   "source": [
    "# statsmodels for train_test_split"
   ]
  },
  {
   "cell_type": "code",
   "execution_count": 11,
   "metadata": {},
   "outputs": [
    {
     "name": "stdout",
     "output_type": "stream",
     "text": [
      "Optimization terminated successfully.\n",
      "         Current function value: 0.401862\n",
      "         Iterations 6\n"
     ]
    },
    {
     "data": {
      "text/html": [
       "<table class=\"simpletable\">\n",
       "<caption>Logit Regression Results</caption>\n",
       "<tr>\n",
       "  <th>Dep. Variable:</th>     <td>Death_1yr</td>    <th>  No. Observations:  </th>  <td>   364</td> \n",
       "</tr>\n",
       "<tr>\n",
       "  <th>Model:</th>               <td>Logit</td>      <th>  Df Residuals:      </th>  <td>   356</td> \n",
       "</tr>\n",
       "<tr>\n",
       "  <th>Method:</th>               <td>MLE</td>       <th>  Df Model:          </th>  <td>     7</td> \n",
       "</tr>\n",
       "<tr>\n",
       "  <th>Date:</th>          <td>Mon, 29 Apr 2019</td> <th>  Pseudo R-squ.:     </th>  <td>0.05358</td>\n",
       "</tr>\n",
       "<tr>\n",
       "  <th>Time:</th>              <td>12:11:11</td>     <th>  Log-Likelihood:    </th> <td> -146.28</td>\n",
       "</tr>\n",
       "<tr>\n",
       "  <th>converged:</th>           <td>True</td>       <th>  LL-Null:           </th> <td> -154.56</td>\n",
       "</tr>\n",
       "<tr>\n",
       "  <th> </th>                      <td> </td>        <th>  LLR p-value:       </th>  <td>0.02046</td>\n",
       "</tr>\n",
       "</table>\n",
       "<table class=\"simpletable\">\n",
       "<tr>\n",
       "          <td></td>             <th>coef</th>     <th>std err</th>      <th>z</th>      <th>P>|z|</th>  <th>[0.025</th>    <th>0.975]</th>  \n",
       "</tr>\n",
       "<tr>\n",
       "  <th>const</th>             <td>   -1.6443</td> <td>    0.664</td> <td>   -2.475</td> <td> 0.013</td> <td>   -2.946</td> <td>   -0.342</td>\n",
       "</tr>\n",
       "<tr>\n",
       "  <th>Dyspnoea</th>          <td>    0.4746</td> <td>    0.602</td> <td>    0.788</td> <td> 0.431</td> <td>   -0.706</td> <td>    1.655</td>\n",
       "</tr>\n",
       "<tr>\n",
       "  <th>Weakness</th>          <td>    0.2525</td> <td>    0.384</td> <td>    0.658</td> <td> 0.510</td> <td>   -0.499</td> <td>    1.004</td>\n",
       "</tr>\n",
       "<tr>\n",
       "  <th>Tumor_Size</th>        <td>    0.4713</td> <td>    0.204</td> <td>    2.314</td> <td> 0.021</td> <td>    0.072</td> <td>    0.871</td>\n",
       "</tr>\n",
       "<tr>\n",
       "  <th>Diabetes_Mellitus</th> <td>    0.8831</td> <td>    0.462</td> <td>    1.910</td> <td> 0.056</td> <td>   -0.023</td> <td>    1.790</td>\n",
       "</tr>\n",
       "<tr>\n",
       "  <th>DGN2</th>              <td>   -0.7266</td> <td>    0.699</td> <td>   -1.039</td> <td> 0.299</td> <td>   -2.097</td> <td>    0.644</td>\n",
       "</tr>\n",
       "<tr>\n",
       "  <th>DGN3</th>              <td>   -1.3090</td> <td>    0.594</td> <td>   -2.203</td> <td> 0.028</td> <td>   -2.474</td> <td>   -0.144</td>\n",
       "</tr>\n",
       "<tr>\n",
       "  <th>DGN4</th>              <td>   -0.8335</td> <td>    0.703</td> <td>   -1.185</td> <td> 0.236</td> <td>   -2.212</td> <td>    0.545</td>\n",
       "</tr>\n",
       "</table>"
      ],
      "text/plain": [
       "<class 'statsmodels.iolib.summary.Summary'>\n",
       "\"\"\"\n",
       "                           Logit Regression Results                           \n",
       "==============================================================================\n",
       "Dep. Variable:              Death_1yr   No. Observations:                  364\n",
       "Model:                          Logit   Df Residuals:                      356\n",
       "Method:                           MLE   Df Model:                            7\n",
       "Date:                Mon, 29 Apr 2019   Pseudo R-squ.:                 0.05358\n",
       "Time:                        12:11:11   Log-Likelihood:                -146.28\n",
       "converged:                       True   LL-Null:                       -154.56\n",
       "                                        LLR p-value:                   0.02046\n",
       "=====================================================================================\n",
       "                        coef    std err          z      P>|z|      [0.025      0.975]\n",
       "-------------------------------------------------------------------------------------\n",
       "const                -1.6443      0.664     -2.475      0.013      -2.946      -0.342\n",
       "Dyspnoea              0.4746      0.602      0.788      0.431      -0.706       1.655\n",
       "Weakness              0.2525      0.384      0.658      0.510      -0.499       1.004\n",
       "Tumor_Size            0.4713      0.204      2.314      0.021       0.072       0.871\n",
       "Diabetes_Mellitus     0.8831      0.462      1.910      0.056      -0.023       1.790\n",
       "DGN2                 -0.7266      0.699     -1.039      0.299      -2.097       0.644\n",
       "DGN3                 -1.3090      0.594     -2.203      0.028      -2.474      -0.144\n",
       "DGN4                 -0.8335      0.703     -1.185      0.236      -2.212       0.545\n",
       "=====================================================================================\n",
       "\"\"\""
      ]
     },
     "execution_count": 11,
     "metadata": {},
     "output_type": "execute_result"
    }
   ],
   "source": [
    "# Adding constant term to X\n",
    "X_const = sm.add_constant(X)\n",
    "\n",
    "# Splitting the data\n",
    "x_train, x_test, y_train, y_test = train_test_split(X_const, y, test_size=.2, stratify=y, random_state=111)\n",
    "\n",
    "model_stat_split = Logit(y_train, x_train)\n",
    "results_stat_split = model_stat_split.fit()\n",
    "\n",
    "results_stat_split.summary()"
   ]
  },
  {
   "cell_type": "code",
   "execution_count": 12,
   "metadata": {},
   "outputs": [
    {
     "data": {
      "text/html": [
       "<table class=\"simpletable\">\n",
       "<caption>Logit Marginal Effects</caption>\n",
       "<tr>\n",
       "  <th>Dep. Variable:</th> <td>Death_1yr</td>\n",
       "</tr>\n",
       "<tr>\n",
       "  <th>Method:</th>          <td>dydx</td>   \n",
       "</tr>\n",
       "<tr>\n",
       "  <th>At:</th>             <td>overall</td> \n",
       "</tr>\n",
       "</table>\n",
       "<table class=\"simpletable\">\n",
       "<tr>\n",
       "          <th></th>             <th>dy/dx</th>    <th>std err</th>      <th>z</th>      <th>P>|z|</th>  <th>[0.025</th>    <th>0.975]</th>  \n",
       "</tr>\n",
       "<tr>\n",
       "  <th>Dyspnoea</th>          <td>    0.0577</td> <td>    0.073</td> <td>    0.789</td> <td> 0.430</td> <td>   -0.086</td> <td>    0.201</td>\n",
       "</tr>\n",
       "<tr>\n",
       "  <th>Weakness</th>          <td>    0.0307</td> <td>    0.047</td> <td>    0.658</td> <td> 0.510</td> <td>   -0.061</td> <td>    0.122</td>\n",
       "</tr>\n",
       "<tr>\n",
       "  <th>Tumor_Size</th>        <td>    0.0573</td> <td>    0.025</td> <td>    2.338</td> <td> 0.019</td> <td>    0.009</td> <td>    0.105</td>\n",
       "</tr>\n",
       "<tr>\n",
       "  <th>Diabetes_Mellitus</th> <td>    0.1074</td> <td>    0.056</td> <td>    1.926</td> <td> 0.054</td> <td>   -0.002</td> <td>    0.217</td>\n",
       "</tr>\n",
       "<tr>\n",
       "  <th>DGN2</th>              <td>   -0.0883</td> <td>    0.085</td> <td>   -1.042</td> <td> 0.297</td> <td>   -0.254</td> <td>    0.078</td>\n",
       "</tr>\n",
       "<tr>\n",
       "  <th>DGN3</th>              <td>   -0.1591</td> <td>    0.071</td> <td>   -2.230</td> <td> 0.026</td> <td>   -0.299</td> <td>   -0.019</td>\n",
       "</tr>\n",
       "<tr>\n",
       "  <th>DGN4</th>              <td>   -0.1013</td> <td>    0.085</td> <td>   -1.191</td> <td> 0.234</td> <td>   -0.268</td> <td>    0.065</td>\n",
       "</tr>\n",
       "</table>"
      ],
      "text/plain": [
       "<class 'statsmodels.iolib.summary.Summary'>\n",
       "\"\"\"\n",
       "        Logit Marginal Effects       \n",
       "=====================================\n",
       "Dep. Variable:              Death_1yr\n",
       "Method:                          dydx\n",
       "At:                           overall\n",
       "=====================================================================================\n",
       "                       dy/dx    std err          z      P>|z|      [0.025      0.975]\n",
       "-------------------------------------------------------------------------------------\n",
       "Dyspnoea              0.0577      0.073      0.789      0.430      -0.086       0.201\n",
       "Weakness              0.0307      0.047      0.658      0.510      -0.061       0.122\n",
       "Tumor_Size            0.0573      0.025      2.338      0.019       0.009       0.105\n",
       "Diabetes_Mellitus     0.1074      0.056      1.926      0.054      -0.002       0.217\n",
       "DGN2                 -0.0883      0.085     -1.042      0.297      -0.254       0.078\n",
       "DGN3                 -0.1591      0.071     -2.230      0.026      -0.299      -0.019\n",
       "DGN4                 -0.1013      0.085     -1.191      0.234      -0.268       0.065\n",
       "=====================================================================================\n",
       "\"\"\""
      ]
     },
     "execution_count": 12,
     "metadata": {},
     "output_type": "execute_result"
    }
   ],
   "source": [
    "results_stat_split.get_margeff().summary()"
   ]
  },
  {
   "cell_type": "code",
   "execution_count": 13,
   "metadata": {},
   "outputs": [
    {
     "data": {
      "text/html": [
       "<div>\n",
       "<style scoped>\n",
       "    .dataframe tbody tr th:only-of-type {\n",
       "        vertical-align: middle;\n",
       "    }\n",
       "\n",
       "    .dataframe tbody tr th {\n",
       "        vertical-align: top;\n",
       "    }\n",
       "\n",
       "    .dataframe thead th {\n",
       "        text-align: right;\n",
       "    }\n",
       "</style>\n",
       "<table border=\"1\" class=\"dataframe\">\n",
       "  <thead>\n",
       "    <tr style=\"text-align: right;\">\n",
       "      <th></th>\n",
       "      <th>Probabilities</th>\n",
       "      <th>y_pred</th>\n",
       "      <th>y_true</th>\n",
       "    </tr>\n",
       "  </thead>\n",
       "  <tbody>\n",
       "    <tr>\n",
       "      <th>208</th>\n",
       "      <td>0.118101</td>\n",
       "      <td>0</td>\n",
       "      <td>0</td>\n",
       "    </tr>\n",
       "    <tr>\n",
       "      <th>423</th>\n",
       "      <td>0.118101</td>\n",
       "      <td>0</td>\n",
       "      <td>0</td>\n",
       "    </tr>\n",
       "    <tr>\n",
       "      <th>434</th>\n",
       "      <td>0.077138</td>\n",
       "      <td>0</td>\n",
       "      <td>0</td>\n",
       "    </tr>\n",
       "    <tr>\n",
       "      <th>396</th>\n",
       "      <td>0.118101</td>\n",
       "      <td>0</td>\n",
       "      <td>0</td>\n",
       "    </tr>\n",
       "    <tr>\n",
       "      <th>328</th>\n",
       "      <td>0.118101</td>\n",
       "      <td>0</td>\n",
       "      <td>0</td>\n",
       "    </tr>\n",
       "    <tr>\n",
       "      <th>350</th>\n",
       "      <td>0.118101</td>\n",
       "      <td>0</td>\n",
       "      <td>1</td>\n",
       "    </tr>\n",
       "    <tr>\n",
       "      <th>439</th>\n",
       "      <td>0.097140</td>\n",
       "      <td>0</td>\n",
       "      <td>0</td>\n",
       "    </tr>\n",
       "    <tr>\n",
       "      <th>168</th>\n",
       "      <td>0.168156</td>\n",
       "      <td>0</td>\n",
       "      <td>0</td>\n",
       "    </tr>\n",
       "    <tr>\n",
       "      <th>238</th>\n",
       "      <td>0.284864</td>\n",
       "      <td>0</td>\n",
       "      <td>1</td>\n",
       "    </tr>\n",
       "    <tr>\n",
       "      <th>360</th>\n",
       "      <td>0.118101</td>\n",
       "      <td>0</td>\n",
       "      <td>0</td>\n",
       "    </tr>\n",
       "  </tbody>\n",
       "</table>\n",
       "</div>"
      ],
      "text/plain": [
       "     Probabilities y_pred  y_true\n",
       "208       0.118101      0       0\n",
       "423       0.118101      0       0\n",
       "434       0.077138      0       0\n",
       "396       0.118101      0       0\n",
       "328       0.118101      0       0\n",
       "350       0.118101      0       1\n",
       "439       0.097140      0       0\n",
       "168       0.168156      0       0\n",
       "238       0.284864      0       1\n",
       "360       0.118101      0       0"
      ]
     },
     "execution_count": 13,
     "metadata": {},
     "output_type": "execute_result"
    }
   ],
   "source": [
    "# Compareing predicted and actual values of y when threshold is 0.5\n",
    "probab_stat_split = results_stat_split.predict(x_test)\n",
    "predictions_stat_split = pd.DataFrame(probab_stat_split, columns=(['Probabilities']))\n",
    "predictions_stat_split['y_pred'] = np.where(predictions_stat_split.Probabilities>=0.5, '1', '0')\n",
    "predictions_stat_split['y_true'] = y_test\n",
    "\n",
    "predictions_stat_split[10:20]"
   ]
  },
  {
   "cell_type": "code",
   "execution_count": 14,
   "metadata": {},
   "outputs": [
    {
     "data": {
      "text/html": [
       "<div>\n",
       "<style scoped>\n",
       "    .dataframe tbody tr th:only-of-type {\n",
       "        vertical-align: middle;\n",
       "    }\n",
       "\n",
       "    .dataframe tbody tr th {\n",
       "        vertical-align: top;\n",
       "    }\n",
       "\n",
       "    .dataframe thead th {\n",
       "        text-align: right;\n",
       "    }\n",
       "</style>\n",
       "<table border=\"1\" class=\"dataframe\">\n",
       "  <thead>\n",
       "    <tr style=\"text-align: right;\">\n",
       "      <th>y_true</th>\n",
       "      <th>0</th>\n",
       "      <th>1</th>\n",
       "    </tr>\n",
       "    <tr>\n",
       "      <th>y_pred</th>\n",
       "      <th></th>\n",
       "      <th></th>\n",
       "    </tr>\n",
       "  </thead>\n",
       "  <tbody>\n",
       "    <tr>\n",
       "      <th>0</th>\n",
       "      <td>78</td>\n",
       "      <td>13</td>\n",
       "    </tr>\n",
       "    <tr>\n",
       "      <th>1</th>\n",
       "      <td>0</td>\n",
       "      <td>1</td>\n",
       "    </tr>\n",
       "  </tbody>\n",
       "</table>\n",
       "</div>"
      ],
      "text/plain": [
       "y_true   0   1\n",
       "y_pred        \n",
       "0       78  13\n",
       "1        0   1"
      ]
     },
     "execution_count": 14,
     "metadata": {},
     "output_type": "execute_result"
    }
   ],
   "source": [
    "# Getting confusion matrix for the whole dataset\n",
    "cnf_matrix_stat_split = pd.crosstab(predictions_stat_split.y_pred, predictions_stat_split.y_true)\n",
    "cnf_matrix_stat_split"
   ]
  },
  {
   "cell_type": "code",
   "execution_count": 15,
   "metadata": {},
   "outputs": [
    {
     "data": {
      "image/png": "[encoded data removed]",
      "text/plain": [
       "<Figure size 432x288 with 1 Axes>"
      ]
     },
     "metadata": {},
     "output_type": "display_data"
    }
   ],
   "source": [
    "# Plotting ROC Curve for splited data\n",
    "FPR,TPR,thresholds=roc_curve(y_test,predictions_stat_split.Probabilities)\n",
    "\n",
    "plt.plot([0,1],[0,1], linestyle='--')\n",
    "plt.plot(FPR, TPR, label='ROC AUC=%f'%roc_auc_score(y_test,predictions_stat_split.Probabilities), marker='*')\n",
    "\n",
    "plt.legend(loc='lower right')\n",
    "\n",
    "plt.xlabel('FPR')\n",
    "plt.ylabel('TPR')\n",
    "plt.title('ROC Curve for _stat_split')\n",
    "\n",
    "plt.show()"
   ]
  },
  {
   "cell_type": "markdown",
   "metadata": {},
   "source": [
    "# sklearn for train_test_split"
   ]
  },
  {
   "cell_type": "code",
   "execution_count": 16,
   "metadata": {},
   "outputs": [
    {
     "data": {
      "text/html": [
       "<div>\n",
       "<style scoped>\n",
       "    .dataframe tbody tr th:only-of-type {\n",
       "        vertical-align: middle;\n",
       "    }\n",
       "\n",
       "    .dataframe tbody tr th {\n",
       "        vertical-align: top;\n",
       "    }\n",
       "\n",
       "    .dataframe thead th {\n",
       "        text-align: right;\n",
       "    }\n",
       "</style>\n",
       "<table border=\"1\" class=\"dataframe\">\n",
       "  <thead>\n",
       "    <tr style=\"text-align: right;\">\n",
       "      <th></th>\n",
       "      <th>LogisticRegression(C=1.0, class_weight='balanced', dual=False,\n",
       "          fit_intercept=True, intercept_scaling=1, max_iter=100,\n",
       "          multi_class='ovr', n_jobs=1, penalty='l2', random_state=111,\n",
       "          solver='liblinear', tol=0.0001, verbose=0, warm_start=False)</th>\n",
       "    </tr>\n",
       "  </thead>\n",
       "  <tbody>\n",
       "    <tr>\n",
       "      <th>Accuracy</th>\n",
       "      <td>0.717391</td>\n",
       "    </tr>\n",
       "    <tr>\n",
       "      <th>ROC_AUC</th>\n",
       "      <td>0.716117</td>\n",
       "    </tr>\n",
       "    <tr>\n",
       "      <th>Recall</th>\n",
       "      <td>0.714286</td>\n",
       "    </tr>\n",
       "    <tr>\n",
       "      <th>Precision</th>\n",
       "      <td>0.312500</td>\n",
       "    </tr>\n",
       "  </tbody>\n",
       "</table>\n",
       "</div>"
      ],
      "text/plain": [
       "           LogisticRegression(C=1.0, class_weight='balanced', dual=False,\\n          fit_intercept=True, intercept_scaling=1, max_iter=100,\\n          multi_class='ovr', n_jobs=1, penalty='l2', random_state=111,\\n          solver='liblinear', tol=0.0001, verbose=0, warm_start=False)\n",
       "Accuracy                                            0.717391                                                                                                                                                                                                                               \n",
       "ROC_AUC                                             0.716117                                                                                                                                                                                                                               \n",
       "Recall                                              0.714286                                                                                                                                                                                                                               \n",
       "Precision                                           0.312500                                                                                                                                                                                                                               "
      ]
     },
     "execution_count": 16,
     "metadata": {},
     "output_type": "execute_result"
    }
   ],
   "source": [
    "# Defining y and X\n",
    "y = data.Death_1yr\n",
    "X = data[['Dyspnoea', 'Weakness', 'Tumor_Size', 'Diabetes_Mellitus', 'DGN2', 'DGN3', 'DGN4']]\n",
    "\n",
    "# Splitting data into train and test\n",
    "x_train, x_test, y_train, y_test = train_test_split(X, y, test_size=.2, stratify=y, random_state=111)\n",
    "\n",
    "# Defining model to be used\n",
    "model_sk = LogisticRegression(class_weight='balanced', random_state=111)\n",
    "model_sk.fit(x_train,y_train)\n",
    "\n",
    "# predict, predict_proba\n",
    "y_pred_sk = model_sk.predict(x_test)\n",
    "probab_sk = model_sk.predict_proba(x_test)[:, 1]\n",
    "\n",
    "# scores\n",
    "acc = accuracy_score(y_test, y_pred_sk)\n",
    "roc_auc = roc_auc_score(y_test, y_pred_sk)\n",
    "recall = recall_score(y_test, y_pred_sk)\n",
    "precision = precision_score(y_test, y_pred_sk)\n",
    "\n",
    "scores = pd.DataFrame({'Accuracy': acc, 'ROC_AUC': roc_auc,\n",
    "                       'Recall': recall, 'Precision': precision}, index=[model_sk])\n",
    "\n",
    "scores.transpose()"
   ]
  },
  {
   "cell_type": "code",
   "execution_count": 17,
   "metadata": {},
   "outputs": [
    {
     "name": "stdout",
     "output_type": "stream",
     "text": [
      "\n",
      " \u001b[1m Classification Report \n",
      " \u001b[0m              precision    recall  f1-score   support\n",
      "\n",
      "   Survived       0.93      0.72      0.81        78\n",
      "       Died       0.31      0.71      0.43        14\n",
      "\n",
      "avg / total       0.84      0.72      0.75        92\n",
      "\n"
     ]
    },
    {
     "data": {
      "image/png": "[encoded data removed]",
      "text/plain": [
       "<Figure size 720x360 with 2 Axes>"
      ]
     },
     "metadata": {},
     "output_type": "display_data"
    }
   ],
   "source": [
    "# Building confussion martix\n",
    "classes = ['Survived', 'Died']\n",
    "\n",
    "print('\\n \\033[1m Classification Report \\n \\033[0m', classification_report(y_test, y_pred_sk, target_names=classes))\n",
    "\n",
    "cnf_matrix_sk = confusion_matrix(y_test, y_pred_sk).T\n",
    "plt.figure(figsize=(10,5))\n",
    "sns.heatmap(cnf_matrix_sk, cmap=plt.cm.Blues, center=0, annot=True, annot_kws={'size': 26}, xticklabels=classes, yticklabels=classes);\n",
    "\n",
    "\n",
    "plt.tight_layout()\n",
    "plt.xlabel('Actual label')\n",
    "plt.ylabel('Predicted label')\n",
    "\n",
    "plt.show()"
   ]
  },
  {
   "cell_type": "code",
   "execution_count": 18,
   "metadata": {},
   "outputs": [
    {
     "data": {
      "image/png": "[encoded data removed]",
      "text/plain": [
       "<Figure size 432x288 with 1 Axes>"
      ]
     },
     "metadata": {},
     "output_type": "display_data"
    }
   ],
   "source": [
    "# Getting FPR and TPR\n",
    "FPR,TPR,thresholds = roc_curve(y_test, probab_sk)\n",
    "\n",
    "# Plotting ROC Curve\n",
    "plt.plot([0,1],[0,1], linestyle='--')\n",
    "plt.plot(FPR, TPR, label='ROC AUC=%f'%roc_auc_score(y_test,y_pred_sk), marker='*')\n",
    "\n",
    "plt.legend(loc='lower right')\n",
    "\n",
    "plt.xlabel('FPR')\n",
    "plt.ylabel('TPR')\n",
    "plt.title('ROC Curve for sklearn using y_pred_sk')\n",
    "\n",
    "plt.show()"
   ]
  },
  {
   "cell_type": "code",
   "execution_count": 19,
   "metadata": {},
   "outputs": [
    {
     "data": {
      "image/png": "[encoded data removed]",
      "text/plain": [
       "<Figure size 432x288 with 1 Axes>"
      ]
     },
     "metadata": {},
     "output_type": "display_data"
    }
   ],
   "source": [
    "# Getting FPR and TPR\n",
    "FPR,TPR,thresholds = roc_curve(y_test, probab_sk)\n",
    "\n",
    "# Plotting ROC Curve\n",
    "plt.plot([0,1],[0,1], linestyle='--')\n",
    "plt.plot(FPR, TPR, label='ROC AUC=%f'%roc_auc_score(y_test,probab_sk), marker='*')\n",
    "\n",
    "plt.legend(loc='lower right')\n",
    "\n",
    "plt.xlabel('FPR')\n",
    "plt.ylabel('TPR')\n",
    "plt.title('ROC Curve for sklearn using probab_sk')\n",
    "\n",
    "plt.show()"
   ]
  },
  {
   "cell_type": "markdown",
   "metadata": {},
   "source": [
    "# Lasso and ElasticNet"
   ]
  },
  {
   "cell_type": "code",
   "execution_count": 20,
   "metadata": {},
   "outputs": [],
   "source": [
    "from sklearn.linear_model import LogisticRegression, Lasso, ElasticNet"
   ]
  },
  {
   "cell_type": "code",
   "execution_count": 21,
   "metadata": {},
   "outputs": [],
   "source": [
    "model2 = Lasso()\n",
    "model2.fit(x_train, y_train)\n",
    "\n",
    "probab_lasso = model2.predict(x_test)\n",
    "\n",
    "predictions_la = pd.DataFrame(probab_lasso, columns=(['Probabilities']))\n",
    "predictions_la['y_pred'] = np.where(predictions_la.Probabilities>=0.5, '1', '0')\n",
    "predictions_la['y_true'] = y_test"
   ]
  },
  {
   "cell_type": "code",
   "execution_count": 22,
   "metadata": {},
   "outputs": [
    {
     "data": {
      "text/plain": [
       "array([0.1510989, 0.1510989, 0.1510989, 0.1510989, 0.1510989, 0.1510989,\n",
       "       0.1510989, 0.1510989, 0.1510989, 0.1510989, 0.1510989, 0.1510989,\n",
       "       0.1510989, 0.1510989, 0.1510989, 0.1510989, 0.1510989, 0.1510989,\n",
       "       0.1510989, 0.1510989, 0.1510989, 0.1510989, 0.1510989, 0.1510989,\n",
       "       0.1510989, 0.1510989, 0.1510989, 0.1510989, 0.1510989, 0.1510989,\n",
       "       0.1510989, 0.1510989, 0.1510989, 0.1510989, 0.1510989, 0.1510989,\n",
       "       0.1510989, 0.1510989, 0.1510989, 0.1510989, 0.1510989, 0.1510989,\n",
       "       0.1510989, 0.1510989, 0.1510989, 0.1510989, 0.1510989, 0.1510989,\n",
       "       0.1510989, 0.1510989, 0.1510989, 0.1510989, 0.1510989, 0.1510989,\n",
       "       0.1510989, 0.1510989, 0.1510989, 0.1510989, 0.1510989, 0.1510989,\n",
       "       0.1510989, 0.1510989, 0.1510989, 0.1510989, 0.1510989, 0.1510989,\n",
       "       0.1510989, 0.1510989, 0.1510989, 0.1510989, 0.1510989, 0.1510989,\n",
       "       0.1510989, 0.1510989, 0.1510989, 0.1510989, 0.1510989, 0.1510989,\n",
       "       0.1510989, 0.1510989, 0.1510989, 0.1510989, 0.1510989, 0.1510989,\n",
       "       0.1510989, 0.1510989, 0.1510989, 0.1510989, 0.1510989, 0.1510989,\n",
       "       0.1510989, 0.1510989])"
      ]
     },
     "execution_count": 22,
     "metadata": {},
     "output_type": "execute_result"
    }
   ],
   "source": [
    "probab_lasso"
   ]
  },
  {
   "cell_type": "code",
   "execution_count": 23,
   "metadata": {},
   "outputs": [
    {
     "data": {
      "text/html": [
       "<div>\n",
       "<style scoped>\n",
       "    .dataframe tbody tr th:only-of-type {\n",
       "        vertical-align: middle;\n",
       "    }\n",
       "\n",
       "    .dataframe tbody tr th {\n",
       "        vertical-align: top;\n",
       "    }\n",
       "\n",
       "    .dataframe thead th {\n",
       "        text-align: right;\n",
       "    }\n",
       "</style>\n",
       "<table border=\"1\" class=\"dataframe\">\n",
       "  <thead>\n",
       "    <tr style=\"text-align: right;\">\n",
       "      <th></th>\n",
       "    </tr>\n",
       "  </thead>\n",
       "  <tbody>\n",
       "  </tbody>\n",
       "</table>\n",
       "</div>"
      ],
      "text/plain": [
       "Empty DataFrame\n",
       "Columns: []\n",
       "Index: []"
      ]
     },
     "execution_count": 23,
     "metadata": {},
     "output_type": "execute_result"
    }
   ],
   "source": [
    "cnf_la = pd.crosstab(predictions_la.y_pred, predictions_la.y_true)\n",
    "cnf_la"
   ]
  },
  {
   "cell_type": "code",
   "execution_count": 24,
   "metadata": {},
   "outputs": [
    {
     "data": {
      "image/png": "[encoded data removed]",
      "text/plain": [
       "<Figure size 432x288 with 1 Axes>"
      ]
     },
     "metadata": {},
     "output_type": "display_data"
    }
   ],
   "source": [
    "FPR,TPR,thresholds=roc_curve(y_test,predictions_la.Probabilities)\n",
    "\n",
    "plt.plot([0,1],[0,1], linestyle='--')\n",
    "plt.plot(FPR, TPR, label='ROC AUC=%f'%roc_auc_score(y_test,predictions_la.Probabilities), marker='*')\n",
    "\n",
    "plt.legend(loc='lower right')\n",
    "\n",
    "plt.xlabel('FPR')\n",
    "plt.ylabel('TPR')\n",
    "plt.title('ROC Curve Lasso')\n",
    "\n",
    "plt.show()"
   ]
  },
  {
   "cell_type": "code",
   "execution_count": 25,
   "metadata": {},
   "outputs": [],
   "source": [
    "model3 = ElasticNet()\n",
    "model3.fit(x_train, y_train)\n",
    "\n",
    "probab_net = model3.predict(x_test)\n",
    "\n",
    "predictions_en = pd.DataFrame(probab_net, columns=(['Probabilities']))\n",
    "predictions_en['y_pred'] = np.where(predictions_en.Probabilities>=0.5, '1', '0')\n",
    "predictions_en['y_true'] = y_test"
   ]
  },
  {
   "cell_type": "code",
   "execution_count": 26,
   "metadata": {},
   "outputs": [
    {
     "data": {
      "text/plain": [
       "array([0.1510989, 0.1510989, 0.1510989, 0.1510989, 0.1510989, 0.1510989,\n",
       "       0.1510989, 0.1510989, 0.1510989, 0.1510989, 0.1510989, 0.1510989,\n",
       "       0.1510989, 0.1510989, 0.1510989, 0.1510989, 0.1510989, 0.1510989,\n",
       "       0.1510989, 0.1510989, 0.1510989, 0.1510989, 0.1510989, 0.1510989,\n",
       "       0.1510989, 0.1510989, 0.1510989, 0.1510989, 0.1510989, 0.1510989,\n",
       "       0.1510989, 0.1510989, 0.1510989, 0.1510989, 0.1510989, 0.1510989,\n",
       "       0.1510989, 0.1510989, 0.1510989, 0.1510989, 0.1510989, 0.1510989,\n",
       "       0.1510989, 0.1510989, 0.1510989, 0.1510989, 0.1510989, 0.1510989,\n",
       "       0.1510989, 0.1510989, 0.1510989, 0.1510989, 0.1510989, 0.1510989,\n",
       "       0.1510989, 0.1510989, 0.1510989, 0.1510989, 0.1510989, 0.1510989,\n",
       "       0.1510989, 0.1510989, 0.1510989, 0.1510989, 0.1510989, 0.1510989,\n",
       "       0.1510989, 0.1510989, 0.1510989, 0.1510989, 0.1510989, 0.1510989,\n",
       "       0.1510989, 0.1510989, 0.1510989, 0.1510989, 0.1510989, 0.1510989,\n",
       "       0.1510989, 0.1510989, 0.1510989, 0.1510989, 0.1510989, 0.1510989,\n",
       "       0.1510989, 0.1510989, 0.1510989, 0.1510989, 0.1510989, 0.1510989,\n",
       "       0.1510989, 0.1510989])"
      ]
     },
     "execution_count": 26,
     "metadata": {},
     "output_type": "execute_result"
    }
   ],
   "source": [
    "probab_net"
   ]
  },
  {
   "cell_type": "code",
   "execution_count": 27,
   "metadata": {},
   "outputs": [
    {
     "data": {
      "text/html": [
       "<div>\n",
       "<style scoped>\n",
       "    .dataframe tbody tr th:only-of-type {\n",
       "        vertical-align: middle;\n",
       "    }\n",
       "\n",
       "    .dataframe tbody tr th {\n",
       "        vertical-align: top;\n",
       "    }\n",
       "\n",
       "    .dataframe thead th {\n",
       "        text-align: right;\n",
       "    }\n",
       "</style>\n",
       "<table border=\"1\" class=\"dataframe\">\n",
       "  <thead>\n",
       "    <tr style=\"text-align: right;\">\n",
       "      <th></th>\n",
       "    </tr>\n",
       "  </thead>\n",
       "  <tbody>\n",
       "  </tbody>\n",
       "</table>\n",
       "</div>"
      ],
      "text/plain": [
       "Empty DataFrame\n",
       "Columns: []\n",
       "Index: []"
      ]
     },
     "execution_count": 27,
     "metadata": {},
     "output_type": "execute_result"
    }
   ],
   "source": [
    "cnf_en = pd.crosstab(predictions_en.y_pred, predictions_en.y_true)\n",
    "cnf_en"
   ]
  },
  {
   "cell_type": "code",
   "execution_count": 28,
   "metadata": {},
   "outputs": [
    {
     "data": {
      "image/png": "[encoded data removed]",
      "text/plain": [
       "<Figure size 432x288 with 1 Axes>"
      ]
     },
     "metadata": {},
     "output_type": "display_data"
    }
   ],
   "source": [
    "FPR,TPR,thresholds=roc_curve(y_test,predictions_en.Probabilities)\n",
    "\n",
    "plt.plot([0,1],[0,1], linestyle='--')\n",
    "plt.plot(FPR, TPR, label='ROC AUC=%f'%roc_auc_score(y_test,predictions_en.Probabilities), marker='*')\n",
    "\n",
    "plt.legend(loc='lower right')\n",
    "\n",
    "plt.xlabel('FPR')\n",
    "plt.ylabel('TPR')\n",
    "plt.title('ROC Curve ElasticNet')\n",
    "\n",
    "plt.show()"
   ]
  },
  {
   "cell_type": "code",
   "execution_count": null,
   "metadata": {},
   "outputs": [],
   "source": []
  }
 ],
 "metadata": {
  "kernelspec": {
   "display_name": "Python 3",
   "language": "python",
   "name": "python3"
  },
  "language_info": {
   "codemirror_mode": {
    "name": "ipython",
    "version": 3
   },
   "file_extension": ".py",
   "mimetype": "text/x-python",
   "name": "python",
   "nbconvert_exporter": "python",
   "pygments_lexer": "ipython3",
   "version": "3.6.5"
  }
 },
 "nbformat": 4,
 "nbformat_minor": 2
}
