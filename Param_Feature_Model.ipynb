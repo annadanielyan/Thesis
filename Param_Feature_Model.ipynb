{
 "cells": [
  {
   "cell_type": "code",
   "execution_count": 1,
   "metadata": {},
   "outputs": [],
   "source": [
    "# Data Management\n",
    "import pandas as pd\n",
    "import numpy as np\n",
    "\n",
    "# Data Visualization\n",
    "import matplotlib.pyplot as plt\n",
    "%matplotlib inline\n",
    "import seaborn as sns\n",
    "sns.set_style(\"whitegrid\")\n",
    "\n",
    "\n",
    "from sklearn.model_selection import train_test_split\n",
    "\n",
    "# Hyperparameter selection\n",
    "from sklearn.model_selection import GridSearchCV\n",
    "\n",
    "# Feature Selection\n",
    "from sklearn.feature_selection import SelectKBest, chi2, RFE\n",
    "\n",
    "# Modeling\n",
    "from sklearn.tree import DecisionTreeClassifier\n",
    "from sklearn.neighbors import KNeighborsClassifier\n",
    "from sklearn.linear_model import LogisticRegression\n",
    "from sklearn.ensemble import RandomForestClassifier\n",
    "from sklearn.naive_bayes import GaussianNB\n",
    "\n",
    "# Model Evaluation\n",
    "from sklearn.metrics import accuracy_score, classification_report, precision_score, recall_score, confusion_matrix, roc_auc_score\n",
    "import itertools\n"
   ]
  },
  {
   "cell_type": "markdown",
   "metadata": {},
   "source": [
    "# Cleaning"
   ]
  },
  {
   "cell_type": "code",
   "execution_count": 2,
   "metadata": {},
   "outputs": [],
   "source": [
    "data = pd.read_csv('Surgery_Data.csv')"
   ]
  },
  {
   "cell_type": "code",
   "execution_count": 3,
   "metadata": {},
   "outputs": [],
   "source": [
    "def data_cleaning(data):\n",
    "\n",
    "    # converting into binary variables\n",
    "    data[['Risk1Yr', 'PRE7', 'PRE8', 'PRE9', 'PRE10', 'PRE11', 'PRE17', 'PRE19', 'PRE25', 'PRE30', 'PRE32']] = \\\n",
    "    (data[[ 'Risk1Yr', 'PRE7', 'PRE8', 'PRE9', 'PRE10', 'PRE11', 'PRE17', 'PRE19', 'PRE25', 'PRE30', 'PRE32']] == 'T').astype(int)\n",
    "\n",
    "    # converting into categorical variables\n",
    "    data['DGN'] = data.DGN.str[-1:].astype(int)\n",
    "    data['PRE6'] = data.PRE6.str[-1:].astype(int)\n",
    "    data['PRE14'] = data.PRE14.str[-1:].astype(int)\n",
    "\n",
    "    # renaming data variables\n",
    "    col_names = {'Risk1Yr': 'Death_1yr', 'DGN': 'Diagnosis', 'PRE4': 'FVC', 'PRE5': 'FEV1', 'PRE6': 'Performance', \n",
    "                'PRE7': 'Pain', 'PRE8': 'Haemoptysis', 'PRE9': 'Dyspnoea', 'PRE10': 'Cough', 'PRE11': 'Weakness',\n",
    "                'PRE14': 'Tumor_Size', 'PRE17': 'Diabetes_Mellitus', 'PRE19': 'MI_6mo', 'PRE25': 'PAD',\n",
    "                'PRE30': 'Smoking', 'PRE32': 'Asthma', 'AGE': 'Age'}\n",
    "    data = data.rename(index=str, columns=col_names)\n",
    "\n",
    "    df = data[data.Age > 30]\n",
    "    df = data[data.FEV1 < 8]\n",
    "\n",
    "    print('The original data contains \\033[1m' + str(len(data)) + '\\033[0m observations, while after the applied changes there are \\033[1m' + str(len(df)) + '\\033[0m left.')\n",
    "    \n",
    "    return df"
   ]
  },
  {
   "cell_type": "code",
   "execution_count": 4,
   "metadata": {},
   "outputs": [
    {
     "name": "stdout",
     "output_type": "stream",
     "text": [
      "The original data contains \u001b[1m471\u001b[0m observations, while after the applied changes there are \u001b[1m456\u001b[0m left.\n"
     ]
    }
   ],
   "source": [
    "data = data_cleaning(data)"
   ]
  },
  {
   "cell_type": "code",
   "execution_count": 5,
   "metadata": {},
   "outputs": [
    {
     "data": {
      "text/html": [
       "<div>\n",
       "<style scoped>\n",
       "    .dataframe tbody tr th:only-of-type {\n",
       "        vertical-align: middle;\n",
       "    }\n",
       "\n",
       "    .dataframe tbody tr th {\n",
       "        vertical-align: top;\n",
       "    }\n",
       "\n",
       "    .dataframe thead th {\n",
       "        text-align: right;\n",
       "    }\n",
       "</style>\n",
       "<table border=\"1\" class=\"dataframe\">\n",
       "  <thead>\n",
       "    <tr style=\"text-align: right;\">\n",
       "      <th></th>\n",
       "      <th>Death_1yr</th>\n",
       "      <th>Diagnosis</th>\n",
       "      <th>FVC</th>\n",
       "      <th>FEV1</th>\n",
       "      <th>Performance</th>\n",
       "      <th>Pain</th>\n",
       "      <th>Haemoptysis</th>\n",
       "      <th>Dyspnoea</th>\n",
       "      <th>Cough</th>\n",
       "      <th>Weakness</th>\n",
       "      <th>Tumor_Size</th>\n",
       "      <th>Diabetes_Mellitus</th>\n",
       "      <th>MI_6mo</th>\n",
       "      <th>PAD</th>\n",
       "      <th>Smoking</th>\n",
       "      <th>Asthma</th>\n",
       "      <th>Age</th>\n",
       "    </tr>\n",
       "  </thead>\n",
       "  <tbody>\n",
       "    <tr>\n",
       "      <th>0</th>\n",
       "      <td>0</td>\n",
       "      <td>2</td>\n",
       "      <td>2.88</td>\n",
       "      <td>2.16</td>\n",
       "      <td>1</td>\n",
       "      <td>0</td>\n",
       "      <td>0</td>\n",
       "      <td>0</td>\n",
       "      <td>1</td>\n",
       "      <td>1</td>\n",
       "      <td>4</td>\n",
       "      <td>0</td>\n",
       "      <td>0</td>\n",
       "      <td>0</td>\n",
       "      <td>1</td>\n",
       "      <td>0</td>\n",
       "      <td>60</td>\n",
       "    </tr>\n",
       "    <tr>\n",
       "      <th>1</th>\n",
       "      <td>0</td>\n",
       "      <td>3</td>\n",
       "      <td>3.40</td>\n",
       "      <td>1.88</td>\n",
       "      <td>0</td>\n",
       "      <td>0</td>\n",
       "      <td>0</td>\n",
       "      <td>0</td>\n",
       "      <td>0</td>\n",
       "      <td>0</td>\n",
       "      <td>2</td>\n",
       "      <td>0</td>\n",
       "      <td>0</td>\n",
       "      <td>0</td>\n",
       "      <td>1</td>\n",
       "      <td>0</td>\n",
       "      <td>51</td>\n",
       "    </tr>\n",
       "    <tr>\n",
       "      <th>2</th>\n",
       "      <td>0</td>\n",
       "      <td>3</td>\n",
       "      <td>2.76</td>\n",
       "      <td>2.08</td>\n",
       "      <td>1</td>\n",
       "      <td>0</td>\n",
       "      <td>0</td>\n",
       "      <td>0</td>\n",
       "      <td>1</td>\n",
       "      <td>0</td>\n",
       "      <td>1</td>\n",
       "      <td>0</td>\n",
       "      <td>0</td>\n",
       "      <td>0</td>\n",
       "      <td>1</td>\n",
       "      <td>0</td>\n",
       "      <td>59</td>\n",
       "    </tr>\n",
       "    <tr>\n",
       "      <th>3</th>\n",
       "      <td>0</td>\n",
       "      <td>3</td>\n",
       "      <td>3.68</td>\n",
       "      <td>3.04</td>\n",
       "      <td>0</td>\n",
       "      <td>0</td>\n",
       "      <td>0</td>\n",
       "      <td>0</td>\n",
       "      <td>0</td>\n",
       "      <td>0</td>\n",
       "      <td>1</td>\n",
       "      <td>0</td>\n",
       "      <td>0</td>\n",
       "      <td>0</td>\n",
       "      <td>0</td>\n",
       "      <td>0</td>\n",
       "      <td>54</td>\n",
       "    </tr>\n",
       "    <tr>\n",
       "      <th>4</th>\n",
       "      <td>1</td>\n",
       "      <td>3</td>\n",
       "      <td>2.44</td>\n",
       "      <td>0.96</td>\n",
       "      <td>2</td>\n",
       "      <td>0</td>\n",
       "      <td>1</td>\n",
       "      <td>0</td>\n",
       "      <td>1</td>\n",
       "      <td>1</td>\n",
       "      <td>1</td>\n",
       "      <td>0</td>\n",
       "      <td>0</td>\n",
       "      <td>0</td>\n",
       "      <td>1</td>\n",
       "      <td>0</td>\n",
       "      <td>73</td>\n",
       "    </tr>\n",
       "  </tbody>\n",
       "</table>\n",
       "</div>"
      ],
      "text/plain": [
       "   Death_1yr  Diagnosis   FVC  FEV1  Performance  Pain  Haemoptysis  Dyspnoea  \\\n",
       "0          0          2  2.88  2.16            1     0            0         0   \n",
       "1          0          3  3.40  1.88            0     0            0         0   \n",
       "2          0          3  2.76  2.08            1     0            0         0   \n",
       "3          0          3  3.68  3.04            0     0            0         0   \n",
       "4          1          3  2.44  0.96            2     0            1         0   \n",
       "\n",
       "   Cough  Weakness  Tumor_Size  Diabetes_Mellitus  MI_6mo  PAD  Smoking  \\\n",
       "0      1         1           4                  0       0    0        1   \n",
       "1      0         0           2                  0       0    0        1   \n",
       "2      1         0           1                  0       0    0        1   \n",
       "3      0         0           1                  0       0    0        0   \n",
       "4      1         1           1                  0       0    0        1   \n",
       "\n",
       "   Asthma  Age  \n",
       "0       0   60  \n",
       "1       0   51  \n",
       "2       0   59  \n",
       "3       0   54  \n",
       "4       0   73  "
      ]
     },
     "execution_count": 5,
     "metadata": {},
     "output_type": "execute_result"
    }
   ],
   "source": [
    "data.head()"
   ]
  },
  {
   "cell_type": "markdown",
   "metadata": {},
   "source": [
    "# X, y, train_test_split"
   ]
  },
  {
   "cell_type": "code",
   "execution_count": 6,
   "metadata": {},
   "outputs": [],
   "source": [
    "X, y = data.drop(['Death_1yr', 'MI_6mo', 'Asthma'], axis=1), data['Death_1yr']\n",
    "\n",
    "X_train, X_test, y_train, y_test = train_test_split(X, y, test_size=.2)"
   ]
  },
  {
   "cell_type": "markdown",
   "metadata": {},
   "source": [
    "# Initial models to be used"
   ]
  },
  {
   "cell_type": "code",
   "execution_count": 7,
   "metadata": {},
   "outputs": [],
   "source": [
    "lr = LogisticRegression()\n",
    "dt = DecisionTreeClassifier()\n",
    "rf = RandomForestClassifier()"
   ]
  },
  {
   "cell_type": "markdown",
   "metadata": {},
   "source": [
    "# Hyperparameters"
   ]
  },
  {
   "cell_type": "code",
   "execution_count": 8,
   "metadata": {},
   "outputs": [],
   "source": [
    "def hyperpars(model, parameters):\n",
    "    \n",
    "    param_search = GridSearchCV(model, parameters)\n",
    "    param_search.fit(X_train, y_train)\n",
    "    \n",
    "    return param_search.best_estimator_"
   ]
  },
  {
   "cell_type": "markdown",
   "metadata": {},
   "source": [
    "**Hyperparameters for LogisticRegression()**"
   ]
  },
  {
   "cell_type": "code",
   "execution_count": 9,
   "metadata": {},
   "outputs": [],
   "source": [
    "def logistic(model):\n",
    "    \n",
    "    reg = [0.1, 1, 10]\n",
    "    weight = ['balanced', None]\n",
    "    \n",
    "    param_lr = dict(C=reg, class_weight=weight)\n",
    "    lr_hyper = hyperpars(model, param_lr)\n",
    "    \n",
    "    print('\\033[1m Selected hyperparameters for Logistic Regression are: \\033[0m \\n\\n', lr_hyper)\n",
    "    \n",
    "    return lr_hyper"
   ]
  },
  {
   "cell_type": "code",
   "execution_count": 10,
   "metadata": {},
   "outputs": [
    {
     "name": "stdout",
     "output_type": "stream",
     "text": [
      "\u001b[1m Selected hyperparameters for Logistic Regression are: \u001b[0m \n",
      "\n",
      " LogisticRegression(C=0.1, class_weight=None, dual=False, fit_intercept=True,\n",
      "          intercept_scaling=1, max_iter=100, multi_class='ovr', n_jobs=1,\n",
      "          penalty='l2', random_state=None, solver='liblinear', tol=0.0001,\n",
      "          verbose=0, warm_start=False)\n"
     ]
    }
   ],
   "source": [
    "lr_hyper = logistic(lr)"
   ]
  },
  {
   "cell_type": "markdown",
   "metadata": {},
   "source": [
    "**Hyperparameters for DecisionTreeClassifier()**"
   ]
  },
  {
   "cell_type": "code",
   "execution_count": 11,
   "metadata": {},
   "outputs": [],
   "source": [
    "def tree_forest(model):\n",
    "    \n",
    "    weight = ['balanced', None]\n",
    "    criterion = ['gini', 'entropy']\n",
    "    depth = [i for i in range(5,21,1)]\n",
    "    samples = [i for i in range(20,500,10)]\n",
    "    \n",
    "    param_dt = dict(class_weight=weight, criterion=criterion, max_depth=depth, min_samples_leaf=samples)\n",
    "    hyper = hyperpars(model, param_dt)\n",
    "    \n",
    "    if model==dt:\n",
    "        print('\\033[1m Selected hyperparameters for Decision Tree are: \\033[0m \\n\\n', hyper)\n",
    "    if model==rf:\n",
    "        print('\\033[1m Selected hyperparameters for Random Forest are: \\033[0m \\n\\n', hyper)\n",
    "        \n",
    "    return hyper"
   ]
  },
  {
   "cell_type": "code",
   "execution_count": 12,
   "metadata": {
    "scrolled": true
   },
   "outputs": [
    {
     "name": "stdout",
     "output_type": "stream",
     "text": [
      "\u001b[1m Selected hyperparameters for Decision Tree are: \u001b[0m \n",
      "\n",
      " DecisionTreeClassifier(class_weight='balanced', criterion='gini', max_depth=5,\n",
      "            max_features=None, max_leaf_nodes=None,\n",
      "            min_impurity_decrease=0.0, min_impurity_split=None,\n",
      "            min_samples_leaf=130, min_samples_split=2,\n",
      "            min_weight_fraction_leaf=0.0, presort=False, random_state=None,\n",
      "            splitter='best')\n"
     ]
    }
   ],
   "source": [
    "dt_hyper = tree_forest(dt)"
   ]
  },
  {
   "cell_type": "code",
   "execution_count": 13,
   "metadata": {},
   "outputs": [
    {
     "name": "stdout",
     "output_type": "stream",
     "text": [
      "\u001b[1m Selected hyperparameters for Random Forest are: \u001b[0m \n",
      "\n",
      " RandomForestClassifier(bootstrap=True, class_weight='balanced',\n",
      "            criterion='gini', max_depth=5, max_features='auto',\n",
      "            max_leaf_nodes=None, min_impurity_decrease=0.0,\n",
      "            min_impurity_split=None, min_samples_leaf=120,\n",
      "            min_samples_split=2, min_weight_fraction_leaf=0.0,\n",
      "            n_estimators=10, n_jobs=1, oob_score=False, random_state=None,\n",
      "            verbose=0, warm_start=False)\n"
     ]
    }
   ],
   "source": [
    "rf_hyper = tree_forest(rf)"
   ]
  },
  {
   "cell_type": "markdown",
   "metadata": {},
   "source": [
    "# Feature Importance"
   ]
  },
  {
   "cell_type": "code",
   "execution_count": 14,
   "metadata": {},
   "outputs": [],
   "source": [
    "def feature_selection(model):\n",
    "    \n",
    "    model.fit(X_train, y_train)\n",
    "    \n",
    "    if model==lr:\n",
    "        print('\\033[1m Default Logistic Regression \\033[0m')\n",
    "        relative_importances = pd.DataFrame(index=list(X), data=model.coef_[0], columns=[\"importance\"])\n",
    "        \n",
    "    if model==lr_hyper:\n",
    "        print('\\033[1m Modified Logistic Regression \\033[0m')\n",
    "        relative_importances = pd.DataFrame(index=list(X), data=model.coef_[0], columns=[\"importance\"])\n",
    "        \n",
    "    if model==dt:\n",
    "        print('\\033[1m Default Decision Tree \\033[0m')\n",
    "        relative_importances = pd.DataFrame(index=list(X), data=model.feature_importances_, columns=[\"importance\"])\n",
    "    \n",
    "    if model==dt_hyper:\n",
    "        print('\\033[1m Modified Decision Tree \\033[0m')\n",
    "        relative_importances = pd.DataFrame(index=list(X), data=model.feature_importances_, columns=[\"importance\"])\n",
    "        \n",
    "    if model==rf:\n",
    "        print('\\033[1m Default Random Forest \\033[0m')\n",
    "        relative_importances = pd.DataFrame(index=list(X), data=model.feature_importances_, columns=[\"importance\"])\n",
    "    \n",
    "    if model==rf_hyper:\n",
    "        print('\\033[1m Modified Random Forest \\033[0m')\n",
    "        relative_importances = pd.DataFrame(index=list(X), data=model.feature_importances_, columns=[\"importance\"])\n",
    "    \n",
    "    coeff = relative_importances[relative_importances.importance>0.01]\n",
    "    coeff.columns = [str(model)]\n",
    "    \n",
    "    return coeff"
   ]
  },
  {
   "cell_type": "code",
   "execution_count": 15,
   "metadata": {},
   "outputs": [
    {
     "name": "stdout",
     "output_type": "stream",
     "text": [
      "\u001b[1m Default Logistic Regression \u001b[0m\n"
     ]
    },
    {
     "data": {
      "text/html": [
       "<div>\n",
       "<style scoped>\n",
       "    .dataframe tbody tr th:only-of-type {\n",
       "        vertical-align: middle;\n",
       "    }\n",
       "\n",
       "    .dataframe tbody tr th {\n",
       "        vertical-align: top;\n",
       "    }\n",
       "\n",
       "    .dataframe thead th {\n",
       "        text-align: right;\n",
       "    }\n",
       "</style>\n",
       "<table border=\"1\" class=\"dataframe\">\n",
       "  <thead>\n",
       "    <tr style=\"text-align: right;\">\n",
       "      <th></th>\n",
       "      <th>LogisticRegression(C=1.0, class_weight=None, dual=False, fit_intercept=True,\n",
       "          intercept_scaling=1, max_iter=100, multi_class='ovr', n_jobs=1,\n",
       "          penalty='l2', random_state=None, solver='liblinear', tol=0.0001,\n",
       "          verbose=0, warm_start=False)</th>\n",
       "    </tr>\n",
       "  </thead>\n",
       "  <tbody>\n",
       "    <tr>\n",
       "      <th>Diagnosis</th>\n",
       "      <td>0.400685</td>\n",
       "    </tr>\n",
       "    <tr>\n",
       "      <th>Performance</th>\n",
       "      <td>0.504368</td>\n",
       "    </tr>\n",
       "    <tr>\n",
       "      <th>Pain</th>\n",
       "      <td>0.389567</td>\n",
       "    </tr>\n",
       "    <tr>\n",
       "      <th>Haemoptysis</th>\n",
       "      <td>0.520769</td>\n",
       "    </tr>\n",
       "    <tr>\n",
       "      <th>Dyspnoea</th>\n",
       "      <td>0.228012</td>\n",
       "    </tr>\n",
       "    <tr>\n",
       "      <th>Cough</th>\n",
       "      <td>0.111941</td>\n",
       "    </tr>\n",
       "    <tr>\n",
       "      <th>Weakness</th>\n",
       "      <td>0.271518</td>\n",
       "    </tr>\n",
       "    <tr>\n",
       "      <th>Tumor_Size</th>\n",
       "      <td>0.393414</td>\n",
       "    </tr>\n",
       "    <tr>\n",
       "      <th>Diabetes_Mellitus</th>\n",
       "      <td>0.561155</td>\n",
       "    </tr>\n",
       "    <tr>\n",
       "      <th>PAD</th>\n",
       "      <td>0.422021</td>\n",
       "    </tr>\n",
       "    <tr>\n",
       "      <th>Smoking</th>\n",
       "      <td>0.485508</td>\n",
       "    </tr>\n",
       "  </tbody>\n",
       "</table>\n",
       "</div>"
      ],
      "text/plain": [
       "                   LogisticRegression(C=1.0, class_weight=None, dual=False, fit_intercept=True,\\n          intercept_scaling=1, max_iter=100, multi_class='ovr', n_jobs=1,\\n          penalty='l2', random_state=None, solver='liblinear', tol=0.0001,\\n          verbose=0, warm_start=False)\n",
       "Diagnosis                                                   0.400685                                                                                                                                                                                                                          \n",
       "Performance                                                 0.504368                                                                                                                                                                                                                          \n",
       "Pain                                                        0.389567                                                                                                                                                                                                                          \n",
       "Haemoptysis                                                 0.520769                                                                                                                                                                                                                          \n",
       "Dyspnoea                                                    0.228012                                                                                                                                                                                                                          \n",
       "Cough                                                       0.111941                                                                                                                                                                                                                          \n",
       "Weakness                                                    0.271518                                                                                                                                                                                                                          \n",
       "Tumor_Size                                                  0.393414                                                                                                                                                                                                                          \n",
       "Diabetes_Mellitus                                           0.561155                                                                                                                                                                                                                          \n",
       "PAD                                                         0.422021                                                                                                                                                                                                                          \n",
       "Smoking                                                     0.485508                                                                                                                                                                                                                          "
      ]
     },
     "execution_count": 15,
     "metadata": {},
     "output_type": "execute_result"
    }
   ],
   "source": [
    "df_lr = feature_selection(lr)\n",
    "df_lr"
   ]
  },
  {
   "cell_type": "code",
   "execution_count": 16,
   "metadata": {},
   "outputs": [
    {
     "name": "stdout",
     "output_type": "stream",
     "text": [
      "\u001b[1m Modified Logistic Regression \u001b[0m\n"
     ]
    },
    {
     "data": {
      "text/html": [
       "<div>\n",
       "<style scoped>\n",
       "    .dataframe tbody tr th:only-of-type {\n",
       "        vertical-align: middle;\n",
       "    }\n",
       "\n",
       "    .dataframe tbody tr th {\n",
       "        vertical-align: top;\n",
       "    }\n",
       "\n",
       "    .dataframe thead th {\n",
       "        text-align: right;\n",
       "    }\n",
       "</style>\n",
       "<table border=\"1\" class=\"dataframe\">\n",
       "  <thead>\n",
       "    <tr style=\"text-align: right;\">\n",
       "      <th></th>\n",
       "      <th>LogisticRegression(C=0.1, class_weight=None, dual=False, fit_intercept=True,\n",
       "          intercept_scaling=1, max_iter=100, multi_class='ovr', n_jobs=1,\n",
       "          penalty='l2', random_state=None, solver='liblinear', tol=0.0001,\n",
       "          verbose=0, warm_start=False)</th>\n",
       "    </tr>\n",
       "  </thead>\n",
       "  <tbody>\n",
       "    <tr>\n",
       "      <th>Diagnosis</th>\n",
       "      <td>0.225000</td>\n",
       "    </tr>\n",
       "    <tr>\n",
       "      <th>Performance</th>\n",
       "      <td>0.329158</td>\n",
       "    </tr>\n",
       "    <tr>\n",
       "      <th>Pain</th>\n",
       "      <td>0.148755</td>\n",
       "    </tr>\n",
       "    <tr>\n",
       "      <th>Haemoptysis</th>\n",
       "      <td>0.246682</td>\n",
       "    </tr>\n",
       "    <tr>\n",
       "      <th>Dyspnoea</th>\n",
       "      <td>0.062109</td>\n",
       "    </tr>\n",
       "    <tr>\n",
       "      <th>Cough</th>\n",
       "      <td>0.120101</td>\n",
       "    </tr>\n",
       "    <tr>\n",
       "      <th>Weakness</th>\n",
       "      <td>0.153114</td>\n",
       "    </tr>\n",
       "    <tr>\n",
       "      <th>Tumor_Size</th>\n",
       "      <td>0.274970</td>\n",
       "    </tr>\n",
       "    <tr>\n",
       "      <th>Diabetes_Mellitus</th>\n",
       "      <td>0.204649</td>\n",
       "    </tr>\n",
       "    <tr>\n",
       "      <th>PAD</th>\n",
       "      <td>0.088910</td>\n",
       "    </tr>\n",
       "    <tr>\n",
       "      <th>Smoking</th>\n",
       "      <td>0.171015</td>\n",
       "    </tr>\n",
       "  </tbody>\n",
       "</table>\n",
       "</div>"
      ],
      "text/plain": [
       "                   LogisticRegression(C=0.1, class_weight=None, dual=False, fit_intercept=True,\\n          intercept_scaling=1, max_iter=100, multi_class='ovr', n_jobs=1,\\n          penalty='l2', random_state=None, solver='liblinear', tol=0.0001,\\n          verbose=0, warm_start=False)\n",
       "Diagnosis                                                   0.225000                                                                                                                                                                                                                          \n",
       "Performance                                                 0.329158                                                                                                                                                                                                                          \n",
       "Pain                                                        0.148755                                                                                                                                                                                                                          \n",
       "Haemoptysis                                                 0.246682                                                                                                                                                                                                                          \n",
       "Dyspnoea                                                    0.062109                                                                                                                                                                                                                          \n",
       "Cough                                                       0.120101                                                                                                                                                                                                                          \n",
       "Weakness                                                    0.153114                                                                                                                                                                                                                          \n",
       "Tumor_Size                                                  0.274970                                                                                                                                                                                                                          \n",
       "Diabetes_Mellitus                                           0.204649                                                                                                                                                                                                                          \n",
       "PAD                                                         0.088910                                                                                                                                                                                                                          \n",
       "Smoking                                                     0.171015                                                                                                                                                                                                                          "
      ]
     },
     "execution_count": 16,
     "metadata": {},
     "output_type": "execute_result"
    }
   ],
   "source": [
    "df_lr_hyper = feature_selection(lr_hyper)\n",
    "df_lr_hyper"
   ]
  },
  {
   "cell_type": "code",
   "execution_count": 17,
   "metadata": {},
   "outputs": [
    {
     "name": "stdout",
     "output_type": "stream",
     "text": [
      "\u001b[1m Default Decision Tree \u001b[0m\n"
     ]
    },
    {
     "data": {
      "text/html": [
       "<div>\n",
       "<style scoped>\n",
       "    .dataframe tbody tr th:only-of-type {\n",
       "        vertical-align: middle;\n",
       "    }\n",
       "\n",
       "    .dataframe tbody tr th {\n",
       "        vertical-align: top;\n",
       "    }\n",
       "\n",
       "    .dataframe thead th {\n",
       "        text-align: right;\n",
       "    }\n",
       "</style>\n",
       "<table border=\"1\" class=\"dataframe\">\n",
       "  <thead>\n",
       "    <tr style=\"text-align: right;\">\n",
       "      <th></th>\n",
       "      <th>DecisionTreeClassifier(class_weight=None, criterion='gini', max_depth=None,\n",
       "            max_features=None, max_leaf_nodes=None,\n",
       "            min_impurity_decrease=0.0, min_impurity_split=None,\n",
       "            min_samples_leaf=1, min_samples_split=2,\n",
       "            min_weight_fraction_leaf=0.0, presort=False, random_state=None,\n",
       "            splitter='best')</th>\n",
       "    </tr>\n",
       "  </thead>\n",
       "  <tbody>\n",
       "    <tr>\n",
       "      <th>Diagnosis</th>\n",
       "      <td>0.048535</td>\n",
       "    </tr>\n",
       "    <tr>\n",
       "      <th>FVC</th>\n",
       "      <td>0.131833</td>\n",
       "    </tr>\n",
       "    <tr>\n",
       "      <th>FEV1</th>\n",
       "      <td>0.403899</td>\n",
       "    </tr>\n",
       "    <tr>\n",
       "      <th>Haemoptysis</th>\n",
       "      <td>0.069455</td>\n",
       "    </tr>\n",
       "    <tr>\n",
       "      <th>Dyspnoea</th>\n",
       "      <td>0.010566</td>\n",
       "    </tr>\n",
       "    <tr>\n",
       "      <th>Cough</th>\n",
       "      <td>0.016100</td>\n",
       "    </tr>\n",
       "    <tr>\n",
       "      <th>Weakness</th>\n",
       "      <td>0.035743</td>\n",
       "    </tr>\n",
       "    <tr>\n",
       "      <th>Tumor_Size</th>\n",
       "      <td>0.031885</td>\n",
       "    </tr>\n",
       "    <tr>\n",
       "      <th>Diabetes_Mellitus</th>\n",
       "      <td>0.011176</td>\n",
       "    </tr>\n",
       "    <tr>\n",
       "      <th>Smoking</th>\n",
       "      <td>0.031454</td>\n",
       "    </tr>\n",
       "    <tr>\n",
       "      <th>Age</th>\n",
       "      <td>0.201604</td>\n",
       "    </tr>\n",
       "  </tbody>\n",
       "</table>\n",
       "</div>"
      ],
      "text/plain": [
       "                   DecisionTreeClassifier(class_weight=None, criterion='gini', max_depth=None,\\n            max_features=None, max_leaf_nodes=None,\\n            min_impurity_decrease=0.0, min_impurity_split=None,\\n            min_samples_leaf=1, min_samples_split=2,\\n            min_weight_fraction_leaf=0.0, presort=False, random_state=None,\\n            splitter='best')\n",
       "Diagnosis                                                   0.048535                                                                                                                                                                                                                                                                                                                 \n",
       "FVC                                                         0.131833                                                                                                                                                                                                                                                                                                                 \n",
       "FEV1                                                        0.403899                                                                                                                                                                                                                                                                                                                 \n",
       "Haemoptysis                                                 0.069455                                                                                                                                                                                                                                                                                                                 \n",
       "Dyspnoea                                                    0.010566                                                                                                                                                                                                                                                                                                                 \n",
       "Cough                                                       0.016100                                                                                                                                                                                                                                                                                                                 \n",
       "Weakness                                                    0.035743                                                                                                                                                                                                                                                                                                                 \n",
       "Tumor_Size                                                  0.031885                                                                                                                                                                                                                                                                                                                 \n",
       "Diabetes_Mellitus                                           0.011176                                                                                                                                                                                                                                                                                                                 \n",
       "Smoking                                                     0.031454                                                                                                                                                                                                                                                                                                                 \n",
       "Age                                                         0.201604                                                                                                                                                                                                                                                                                                                 "
      ]
     },
     "execution_count": 17,
     "metadata": {},
     "output_type": "execute_result"
    }
   ],
   "source": [
    "df_dt = feature_selection(dt)\n",
    "df_dt"
   ]
  },
  {
   "cell_type": "code",
   "execution_count": 18,
   "metadata": {},
   "outputs": [
    {
     "name": "stdout",
     "output_type": "stream",
     "text": [
      "\u001b[1m Modified Decision Tree \u001b[0m\n"
     ]
    },
    {
     "data": {
      "text/html": [
       "<div>\n",
       "<style scoped>\n",
       "    .dataframe tbody tr th:only-of-type {\n",
       "        vertical-align: middle;\n",
       "    }\n",
       "\n",
       "    .dataframe tbody tr th {\n",
       "        vertical-align: top;\n",
       "    }\n",
       "\n",
       "    .dataframe thead th {\n",
       "        text-align: right;\n",
       "    }\n",
       "</style>\n",
       "<table border=\"1\" class=\"dataframe\">\n",
       "  <thead>\n",
       "    <tr style=\"text-align: right;\">\n",
       "      <th></th>\n",
       "      <th>DecisionTreeClassifier(class_weight='balanced', criterion='gini', max_depth=5,\n",
       "            max_features=None, max_leaf_nodes=None,\n",
       "            min_impurity_decrease=0.0, min_impurity_split=None,\n",
       "            min_samples_leaf=130, min_samples_split=2,\n",
       "            min_weight_fraction_leaf=0.0, presort=False, random_state=None,\n",
       "            splitter='best')</th>\n",
       "    </tr>\n",
       "  </thead>\n",
       "  <tbody>\n",
       "    <tr>\n",
       "      <th>FVC</th>\n",
       "      <td>1.0</td>\n",
       "    </tr>\n",
       "  </tbody>\n",
       "</table>\n",
       "</div>"
      ],
      "text/plain": [
       "     DecisionTreeClassifier(class_weight='balanced', criterion='gini', max_depth=5,\\n            max_features=None, max_leaf_nodes=None,\\n            min_impurity_decrease=0.0, min_impurity_split=None,\\n            min_samples_leaf=130, min_samples_split=2,\\n            min_weight_fraction_leaf=0.0, presort=False, random_state=None,\\n            splitter='best')\n",
       "FVC                                                1.0                                                                                                                                                                                                                                                                                                                      "
      ]
     },
     "execution_count": 18,
     "metadata": {},
     "output_type": "execute_result"
    }
   ],
   "source": [
    "df_dt_hyper = feature_selection(dt_hyper)\n",
    "df_dt_hyper"
   ]
  },
  {
   "cell_type": "code",
   "execution_count": 19,
   "metadata": {},
   "outputs": [
    {
     "name": "stdout",
     "output_type": "stream",
     "text": [
      "\u001b[1m Default Random Forest \u001b[0m\n"
     ]
    },
    {
     "data": {
      "text/html": [
       "<div>\n",
       "<style scoped>\n",
       "    .dataframe tbody tr th:only-of-type {\n",
       "        vertical-align: middle;\n",
       "    }\n",
       "\n",
       "    .dataframe tbody tr th {\n",
       "        vertical-align: top;\n",
       "    }\n",
       "\n",
       "    .dataframe thead th {\n",
       "        text-align: right;\n",
       "    }\n",
       "</style>\n",
       "<table border=\"1\" class=\"dataframe\">\n",
       "  <thead>\n",
       "    <tr style=\"text-align: right;\">\n",
       "      <th></th>\n",
       "      <th>RandomForestClassifier(bootstrap=True, class_weight=None, criterion='gini',\n",
       "            max_depth=None, max_features='auto', max_leaf_nodes=None,\n",
       "            min_impurity_decrease=0.0, min_impurity_split=None,\n",
       "            min_samples_leaf=1, min_samples_split=2,\n",
       "            min_weight_fraction_leaf=0.0, n_estimators=10, n_jobs=1,\n",
       "            oob_score=False, random_state=None, verbose=0,\n",
       "            warm_start=False)</th>\n",
       "    </tr>\n",
       "  </thead>\n",
       "  <tbody>\n",
       "    <tr>\n",
       "      <th>Diagnosis</th>\n",
       "      <td>0.117906</td>\n",
       "    </tr>\n",
       "    <tr>\n",
       "      <th>FVC</th>\n",
       "      <td>0.173419</td>\n",
       "    </tr>\n",
       "    <tr>\n",
       "      <th>FEV1</th>\n",
       "      <td>0.238913</td>\n",
       "    </tr>\n",
       "    <tr>\n",
       "      <th>Performance</th>\n",
       "      <td>0.055707</td>\n",
       "    </tr>\n",
       "    <tr>\n",
       "      <th>Pain</th>\n",
       "      <td>0.022924</td>\n",
       "    </tr>\n",
       "    <tr>\n",
       "      <th>Haemoptysis</th>\n",
       "      <td>0.026274</td>\n",
       "    </tr>\n",
       "    <tr>\n",
       "      <th>Dyspnoea</th>\n",
       "      <td>0.011831</td>\n",
       "    </tr>\n",
       "    <tr>\n",
       "      <th>Cough</th>\n",
       "      <td>0.025131</td>\n",
       "    </tr>\n",
       "    <tr>\n",
       "      <th>Weakness</th>\n",
       "      <td>0.032243</td>\n",
       "    </tr>\n",
       "    <tr>\n",
       "      <th>Tumor_Size</th>\n",
       "      <td>0.071192</td>\n",
       "    </tr>\n",
       "    <tr>\n",
       "      <th>Diabetes_Mellitus</th>\n",
       "      <td>0.026360</td>\n",
       "    </tr>\n",
       "    <tr>\n",
       "      <th>Smoking</th>\n",
       "      <td>0.013904</td>\n",
       "    </tr>\n",
       "    <tr>\n",
       "      <th>Age</th>\n",
       "      <td>0.177677</td>\n",
       "    </tr>\n",
       "  </tbody>\n",
       "</table>\n",
       "</div>"
      ],
      "text/plain": [
       "                   RandomForestClassifier(bootstrap=True, class_weight=None, criterion='gini',\\n            max_depth=None, max_features='auto', max_leaf_nodes=None,\\n            min_impurity_decrease=0.0, min_impurity_split=None,\\n            min_samples_leaf=1, min_samples_split=2,\\n            min_weight_fraction_leaf=0.0, n_estimators=10, n_jobs=1,\\n            oob_score=False, random_state=None, verbose=0,\\n            warm_start=False)\n",
       "Diagnosis                                                   0.117906                                                                                                                                                                                                                                                                                                                                                                                         \n",
       "FVC                                                         0.173419                                                                                                                                                                                                                                                                                                                                                                                         \n",
       "FEV1                                                        0.238913                                                                                                                                                                                                                                                                                                                                                                                         \n",
       "Performance                                                 0.055707                                                                                                                                                                                                                                                                                                                                                                                         \n",
       "Pain                                                        0.022924                                                                                                                                                                                                                                                                                                                                                                                         \n",
       "Haemoptysis                                                 0.026274                                                                                                                                                                                                                                                                                                                                                                                         \n",
       "Dyspnoea                                                    0.011831                                                                                                                                                                                                                                                                                                                                                                                         \n",
       "Cough                                                       0.025131                                                                                                                                                                                                                                                                                                                                                                                         \n",
       "Weakness                                                    0.032243                                                                                                                                                                                                                                                                                                                                                                                         \n",
       "Tumor_Size                                                  0.071192                                                                                                                                                                                                                                                                                                                                                                                         \n",
       "Diabetes_Mellitus                                           0.026360                                                                                                                                                                                                                                                                                                                                                                                         \n",
       "Smoking                                                     0.013904                                                                                                                                                                                                                                                                                                                                                                                         \n",
       "Age                                                         0.177677                                                                                                                                                                                                                                                                                                                                                                                         "
      ]
     },
     "execution_count": 19,
     "metadata": {},
     "output_type": "execute_result"
    }
   ],
   "source": [
    "df_rf = feature_selection(rf)\n",
    "df_rf"
   ]
  },
  {
   "cell_type": "code",
   "execution_count": 20,
   "metadata": {},
   "outputs": [
    {
     "name": "stdout",
     "output_type": "stream",
     "text": [
      "\u001b[1m Modified Random Forest \u001b[0m\n"
     ]
    },
    {
     "data": {
      "text/html": [
       "<div>\n",
       "<style scoped>\n",
       "    .dataframe tbody tr th:only-of-type {\n",
       "        vertical-align: middle;\n",
       "    }\n",
       "\n",
       "    .dataframe tbody tr th {\n",
       "        vertical-align: top;\n",
       "    }\n",
       "\n",
       "    .dataframe thead th {\n",
       "        text-align: right;\n",
       "    }\n",
       "</style>\n",
       "<table border=\"1\" class=\"dataframe\">\n",
       "  <thead>\n",
       "    <tr style=\"text-align: right;\">\n",
       "      <th></th>\n",
       "      <th>RandomForestClassifier(bootstrap=True, class_weight='balanced',\n",
       "            criterion='gini', max_depth=5, max_features='auto',\n",
       "            max_leaf_nodes=None, min_impurity_decrease=0.0,\n",
       "            min_impurity_split=None, min_samples_leaf=120,\n",
       "            min_samples_split=2, min_weight_fraction_leaf=0.0,\n",
       "            n_estimators=10, n_jobs=1, oob_score=False, random_state=None,\n",
       "            verbose=0, warm_start=False)</th>\n",
       "    </tr>\n",
       "  </thead>\n",
       "  <tbody>\n",
       "  </tbody>\n",
       "</table>\n",
       "</div>"
      ],
      "text/plain": [
       "Empty DataFrame\n",
       "Columns: [RandomForestClassifier(bootstrap=True, class_weight='balanced',\n",
       "            criterion='gini', max_depth=5, max_features='auto',\n",
       "            max_leaf_nodes=None, min_impurity_decrease=0.0,\n",
       "            min_impurity_split=None, min_samples_leaf=120,\n",
       "            min_samples_split=2, min_weight_fraction_leaf=0.0,\n",
       "            n_estimators=10, n_jobs=1, oob_score=False, random_state=None,\n",
       "            verbose=0, warm_start=False)]\n",
       "Index: []"
      ]
     },
     "execution_count": 20,
     "metadata": {},
     "output_type": "execute_result"
    }
   ],
   "source": [
    "df_rf_hyper = feature_selection(rf_hyper)\n",
    "df_rf_hyper"
   ]
  },
  {
   "cell_type": "markdown",
   "metadata": {},
   "source": [
    "**Collecting all results into one DataFrame:** https://pandas.pydata.org/pandas-docs/version/0.20/merging.html"
   ]
  },
  {
   "cell_type": "code",
   "execution_count": 21,
   "metadata": {},
   "outputs": [
    {
     "name": "stderr",
     "output_type": "stream",
     "text": [
      "C:\\Users\\Anna Danielyan\\Anaconda3\\lib\\site-packages\\ipykernel_launcher.py:1: FutureWarning: Sorting because non-concatenation axis is not aligned. A future version\n",
      "of pandas will change to not sort by default.\n",
      "\n",
      "To accept the future behavior, pass 'sort=True'.\n",
      "\n",
      "To retain the current behavior and silence the warning, pass sort=False\n",
      "\n",
      "  \"\"\"Entry point for launching an IPython kernel.\n"
     ]
    },
    {
     "data": {
      "text/html": [
       "<div>\n",
       "<style scoped>\n",
       "    .dataframe tbody tr th:only-of-type {\n",
       "        vertical-align: middle;\n",
       "    }\n",
       "\n",
       "    .dataframe tbody tr th {\n",
       "        vertical-align: top;\n",
       "    }\n",
       "\n",
       "    .dataframe thead th {\n",
       "        text-align: right;\n",
       "    }\n",
       "</style>\n",
       "<table border=\"1\" class=\"dataframe\">\n",
       "  <thead>\n",
       "    <tr style=\"text-align: right;\">\n",
       "      <th></th>\n",
       "      <th>LogisticRegression(C=1.0, class_weight=None, dual=False, fit_intercept=True,\n",
       "          intercept_scaling=1, max_iter=100, multi_class='ovr', n_jobs=1,\n",
       "          penalty='l2', random_state=None, solver='liblinear', tol=0.0001,\n",
       "          verbose=0, warm_start=False)</th>\n",
       "      <th>LogisticRegression(C=0.1, class_weight=None, dual=False, fit_intercept=True,\n",
       "          intercept_scaling=1, max_iter=100, multi_class='ovr', n_jobs=1,\n",
       "          penalty='l2', random_state=None, solver='liblinear', tol=0.0001,\n",
       "          verbose=0, warm_start=False)</th>\n",
       "      <th>DecisionTreeClassifier(class_weight=None, criterion='gini', max_depth=None,\n",
       "            max_features=None, max_leaf_nodes=None,\n",
       "            min_impurity_decrease=0.0, min_impurity_split=None,\n",
       "            min_samples_leaf=1, min_samples_split=2,\n",
       "            min_weight_fraction_leaf=0.0, presort=False, random_state=None,\n",
       "            splitter='best')</th>\n",
       "      <th>DecisionTreeClassifier(class_weight='balanced', criterion='gini', max_depth=5,\n",
       "            max_features=None, max_leaf_nodes=None,\n",
       "            min_impurity_decrease=0.0, min_impurity_split=None,\n",
       "            min_samples_leaf=130, min_samples_split=2,\n",
       "            min_weight_fraction_leaf=0.0, presort=False, random_state=None,\n",
       "            splitter='best')</th>\n",
       "      <th>RandomForestClassifier(bootstrap=True, class_weight=None, criterion='gini',\n",
       "            max_depth=None, max_features='auto', max_leaf_nodes=None,\n",
       "            min_impurity_decrease=0.0, min_impurity_split=None,\n",
       "            min_samples_leaf=1, min_samples_split=2,\n",
       "            min_weight_fraction_leaf=0.0, n_estimators=10, n_jobs=1,\n",
       "            oob_score=False, random_state=None, verbose=0,\n",
       "            warm_start=False)</th>\n",
       "      <th>RandomForestClassifier(bootstrap=True, class_weight='balanced',\n",
       "            criterion='gini', max_depth=5, max_features='auto',\n",
       "            max_leaf_nodes=None, min_impurity_decrease=0.0,\n",
       "            min_impurity_split=None, min_samples_leaf=120,\n",
       "            min_samples_split=2, min_weight_fraction_leaf=0.0,\n",
       "            n_estimators=10, n_jobs=1, oob_score=False, random_state=None,\n",
       "            verbose=0, warm_start=False)</th>\n",
       "    </tr>\n",
       "  </thead>\n",
       "  <tbody>\n",
       "    <tr>\n",
       "      <th>Age</th>\n",
       "      <td>NaN</td>\n",
       "      <td>NaN</td>\n",
       "      <td>0.201604</td>\n",
       "      <td>NaN</td>\n",
       "      <td>0.177677</td>\n",
       "      <td>NaN</td>\n",
       "    </tr>\n",
       "    <tr>\n",
       "      <th>Cough</th>\n",
       "      <td>0.111941</td>\n",
       "      <td>0.120101</td>\n",
       "      <td>0.016100</td>\n",
       "      <td>NaN</td>\n",
       "      <td>0.025131</td>\n",
       "      <td>NaN</td>\n",
       "    </tr>\n",
       "    <tr>\n",
       "      <th>Diabetes_Mellitus</th>\n",
       "      <td>0.561155</td>\n",
       "      <td>0.204649</td>\n",
       "      <td>0.011176</td>\n",
       "      <td>NaN</td>\n",
       "      <td>0.026360</td>\n",
       "      <td>NaN</td>\n",
       "    </tr>\n",
       "    <tr>\n",
       "      <th>Diagnosis</th>\n",
       "      <td>0.400685</td>\n",
       "      <td>0.225000</td>\n",
       "      <td>0.048535</td>\n",
       "      <td>NaN</td>\n",
       "      <td>0.117906</td>\n",
       "      <td>NaN</td>\n",
       "    </tr>\n",
       "    <tr>\n",
       "      <th>Dyspnoea</th>\n",
       "      <td>0.228012</td>\n",
       "      <td>0.062109</td>\n",
       "      <td>0.010566</td>\n",
       "      <td>NaN</td>\n",
       "      <td>0.011831</td>\n",
       "      <td>NaN</td>\n",
       "    </tr>\n",
       "    <tr>\n",
       "      <th>FEV1</th>\n",
       "      <td>NaN</td>\n",
       "      <td>NaN</td>\n",
       "      <td>0.403899</td>\n",
       "      <td>NaN</td>\n",
       "      <td>0.238913</td>\n",
       "      <td>NaN</td>\n",
       "    </tr>\n",
       "    <tr>\n",
       "      <th>FVC</th>\n",
       "      <td>NaN</td>\n",
       "      <td>NaN</td>\n",
       "      <td>0.131833</td>\n",
       "      <td>1.0</td>\n",
       "      <td>0.173419</td>\n",
       "      <td>NaN</td>\n",
       "    </tr>\n",
       "    <tr>\n",
       "      <th>Haemoptysis</th>\n",
       "      <td>0.520769</td>\n",
       "      <td>0.246682</td>\n",
       "      <td>0.069455</td>\n",
       "      <td>NaN</td>\n",
       "      <td>0.026274</td>\n",
       "      <td>NaN</td>\n",
       "    </tr>\n",
       "    <tr>\n",
       "      <th>PAD</th>\n",
       "      <td>0.422021</td>\n",
       "      <td>0.088910</td>\n",
       "      <td>NaN</td>\n",
       "      <td>NaN</td>\n",
       "      <td>NaN</td>\n",
       "      <td>NaN</td>\n",
       "    </tr>\n",
       "    <tr>\n",
       "      <th>Pain</th>\n",
       "      <td>0.389567</td>\n",
       "      <td>0.148755</td>\n",
       "      <td>NaN</td>\n",
       "      <td>NaN</td>\n",
       "      <td>0.022924</td>\n",
       "      <td>NaN</td>\n",
       "    </tr>\n",
       "    <tr>\n",
       "      <th>Performance</th>\n",
       "      <td>0.504368</td>\n",
       "      <td>0.329158</td>\n",
       "      <td>NaN</td>\n",
       "      <td>NaN</td>\n",
       "      <td>0.055707</td>\n",
       "      <td>NaN</td>\n",
       "    </tr>\n",
       "    <tr>\n",
       "      <th>Smoking</th>\n",
       "      <td>0.485508</td>\n",
       "      <td>0.171015</td>\n",
       "      <td>0.031454</td>\n",
       "      <td>NaN</td>\n",
       "      <td>0.013904</td>\n",
       "      <td>NaN</td>\n",
       "    </tr>\n",
       "    <tr>\n",
       "      <th>Tumor_Size</th>\n",
       "      <td>0.393414</td>\n",
       "      <td>0.274970</td>\n",
       "      <td>0.031885</td>\n",
       "      <td>NaN</td>\n",
       "      <td>0.071192</td>\n",
       "      <td>NaN</td>\n",
       "    </tr>\n",
       "    <tr>\n",
       "      <th>Weakness</th>\n",
       "      <td>0.271518</td>\n",
       "      <td>0.153114</td>\n",
       "      <td>0.035743</td>\n",
       "      <td>NaN</td>\n",
       "      <td>0.032243</td>\n",
       "      <td>NaN</td>\n",
       "    </tr>\n",
       "  </tbody>\n",
       "</table>\n",
       "</div>"
      ],
      "text/plain": [
       "                   LogisticRegression(C=1.0, class_weight=None, dual=False, fit_intercept=True,\\n          intercept_scaling=1, max_iter=100, multi_class='ovr', n_jobs=1,\\n          penalty='l2', random_state=None, solver='liblinear', tol=0.0001,\\n          verbose=0, warm_start=False)  \\\n",
       "Age                                                              NaN                                                                                                                                                                                                                             \n",
       "Cough                                                       0.111941                                                                                                                                                                                                                             \n",
       "Diabetes_Mellitus                                           0.561155                                                                                                                                                                                                                             \n",
       "Diagnosis                                                   0.400685                                                                                                                                                                                                                             \n",
       "Dyspnoea                                                    0.228012                                                                                                                                                                                                                             \n",
       "FEV1                                                             NaN                                                                                                                                                                                                                             \n",
       "FVC                                                              NaN                                                                                                                                                                                                                             \n",
       "Haemoptysis                                                 0.520769                                                                                                                                                                                                                             \n",
       "PAD                                                         0.422021                                                                                                                                                                                                                             \n",
       "Pain                                                        0.389567                                                                                                                                                                                                                             \n",
       "Performance                                                 0.504368                                                                                                                                                                                                                             \n",
       "Smoking                                                     0.485508                                                                                                                                                                                                                             \n",
       "Tumor_Size                                                  0.393414                                                                                                                                                                                                                             \n",
       "Weakness                                                    0.271518                                                                                                                                                                                                                             \n",
       "\n",
       "                   LogisticRegression(C=0.1, class_weight=None, dual=False, fit_intercept=True,\\n          intercept_scaling=1, max_iter=100, multi_class='ovr', n_jobs=1,\\n          penalty='l2', random_state=None, solver='liblinear', tol=0.0001,\\n          verbose=0, warm_start=False)  \\\n",
       "Age                                                              NaN                                                                                                                                                                                                                             \n",
       "Cough                                                       0.120101                                                                                                                                                                                                                             \n",
       "Diabetes_Mellitus                                           0.204649                                                                                                                                                                                                                             \n",
       "Diagnosis                                                   0.225000                                                                                                                                                                                                                             \n",
       "Dyspnoea                                                    0.062109                                                                                                                                                                                                                             \n",
       "FEV1                                                             NaN                                                                                                                                                                                                                             \n",
       "FVC                                                              NaN                                                                                                                                                                                                                             \n",
       "Haemoptysis                                                 0.246682                                                                                                                                                                                                                             \n",
       "PAD                                                         0.088910                                                                                                                                                                                                                             \n",
       "Pain                                                        0.148755                                                                                                                                                                                                                             \n",
       "Performance                                                 0.329158                                                                                                                                                                                                                             \n",
       "Smoking                                                     0.171015                                                                                                                                                                                                                             \n",
       "Tumor_Size                                                  0.274970                                                                                                                                                                                                                             \n",
       "Weakness                                                    0.153114                                                                                                                                                                                                                             \n",
       "\n",
       "                   DecisionTreeClassifier(class_weight=None, criterion='gini', max_depth=None,\\n            max_features=None, max_leaf_nodes=None,\\n            min_impurity_decrease=0.0, min_impurity_split=None,\\n            min_samples_leaf=1, min_samples_split=2,\\n            min_weight_fraction_leaf=0.0, presort=False, random_state=None,\\n            splitter='best')  \\\n",
       "Age                                                         0.201604                                                                                                                                                                                                                                                                                                                    \n",
       "Cough                                                       0.016100                                                                                                                                                                                                                                                                                                                    \n",
       "Diabetes_Mellitus                                           0.011176                                                                                                                                                                                                                                                                                                                    \n",
       "Diagnosis                                                   0.048535                                                                                                                                                                                                                                                                                                                    \n",
       "Dyspnoea                                                    0.010566                                                                                                                                                                                                                                                                                                                    \n",
       "FEV1                                                        0.403899                                                                                                                                                                                                                                                                                                                    \n",
       "FVC                                                         0.131833                                                                                                                                                                                                                                                                                                                    \n",
       "Haemoptysis                                                 0.069455                                                                                                                                                                                                                                                                                                                    \n",
       "PAD                                                              NaN                                                                                                                                                                                                                                                                                                                    \n",
       "Pain                                                             NaN                                                                                                                                                                                                                                                                                                                    \n",
       "Performance                                                      NaN                                                                                                                                                                                                                                                                                                                    \n",
       "Smoking                                                     0.031454                                                                                                                                                                                                                                                                                                                    \n",
       "Tumor_Size                                                  0.031885                                                                                                                                                                                                                                                                                                                    \n",
       "Weakness                                                    0.035743                                                                                                                                                                                                                                                                                                                    \n",
       "\n",
       "                   DecisionTreeClassifier(class_weight='balanced', criterion='gini', max_depth=5,\\n            max_features=None, max_leaf_nodes=None,\\n            min_impurity_decrease=0.0, min_impurity_split=None,\\n            min_samples_leaf=130, min_samples_split=2,\\n            min_weight_fraction_leaf=0.0, presort=False, random_state=None,\\n            splitter='best')  \\\n",
       "Age                                                              NaN                                                                                                                                                                                                                                                                                                                         \n",
       "Cough                                                            NaN                                                                                                                                                                                                                                                                                                                         \n",
       "Diabetes_Mellitus                                                NaN                                                                                                                                                                                                                                                                                                                         \n",
       "Diagnosis                                                        NaN                                                                                                                                                                                                                                                                                                                         \n",
       "Dyspnoea                                                         NaN                                                                                                                                                                                                                                                                                                                         \n",
       "FEV1                                                             NaN                                                                                                                                                                                                                                                                                                                         \n",
       "FVC                                                              1.0                                                                                                                                                                                                                                                                                                                         \n",
       "Haemoptysis                                                      NaN                                                                                                                                                                                                                                                                                                                         \n",
       "PAD                                                              NaN                                                                                                                                                                                                                                                                                                                         \n",
       "Pain                                                             NaN                                                                                                                                                                                                                                                                                                                         \n",
       "Performance                                                      NaN                                                                                                                                                                                                                                                                                                                         \n",
       "Smoking                                                          NaN                                                                                                                                                                                                                                                                                                                         \n",
       "Tumor_Size                                                       NaN                                                                                                                                                                                                                                                                                                                         \n",
       "Weakness                                                         NaN                                                                                                                                                                                                                                                                                                                         \n",
       "\n",
       "                   RandomForestClassifier(bootstrap=True, class_weight=None, criterion='gini',\\n            max_depth=None, max_features='auto', max_leaf_nodes=None,\\n            min_impurity_decrease=0.0, min_impurity_split=None,\\n            min_samples_leaf=1, min_samples_split=2,\\n            min_weight_fraction_leaf=0.0, n_estimators=10, n_jobs=1,\\n            oob_score=False, random_state=None, verbose=0,\\n            warm_start=False)  \\\n",
       "Age                                                         0.177677                                                                                                                                                                                                                                                                                                                                                                                            \n",
       "Cough                                                       0.025131                                                                                                                                                                                                                                                                                                                                                                                            \n",
       "Diabetes_Mellitus                                           0.026360                                                                                                                                                                                                                                                                                                                                                                                            \n",
       "Diagnosis                                                   0.117906                                                                                                                                                                                                                                                                                                                                                                                            \n",
       "Dyspnoea                                                    0.011831                                                                                                                                                                                                                                                                                                                                                                                            \n",
       "FEV1                                                        0.238913                                                                                                                                                                                                                                                                                                                                                                                            \n",
       "FVC                                                         0.173419                                                                                                                                                                                                                                                                                                                                                                                            \n",
       "Haemoptysis                                                 0.026274                                                                                                                                                                                                                                                                                                                                                                                            \n",
       "PAD                                                              NaN                                                                                                                                                                                                                                                                                                                                                                                            \n",
       "Pain                                                        0.022924                                                                                                                                                                                                                                                                                                                                                                                            \n",
       "Performance                                                 0.055707                                                                                                                                                                                                                                                                                                                                                                                            \n",
       "Smoking                                                     0.013904                                                                                                                                                                                                                                                                                                                                                                                            \n",
       "Tumor_Size                                                  0.071192                                                                                                                                                                                                                                                                                                                                                                                            \n",
       "Weakness                                                    0.032243                                                                                                                                                                                                                                                                                                                                                                                            \n",
       "\n",
       "                   RandomForestClassifier(bootstrap=True, class_weight='balanced',\\n            criterion='gini', max_depth=5, max_features='auto',\\n            max_leaf_nodes=None, min_impurity_decrease=0.0,\\n            min_impurity_split=None, min_samples_leaf=120,\\n            min_samples_split=2, min_weight_fraction_leaf=0.0,\\n            n_estimators=10, n_jobs=1, oob_score=False, random_state=None,\\n            verbose=0, warm_start=False)  \n",
       "Age                                                              NaN                                                                                                                                                                                                                                                                                                                                                                                                \n",
       "Cough                                                            NaN                                                                                                                                                                                                                                                                                                                                                                                                \n",
       "Diabetes_Mellitus                                                NaN                                                                                                                                                                                                                                                                                                                                                                                                \n",
       "Diagnosis                                                        NaN                                                                                                                                                                                                                                                                                                                                                                                                \n",
       "Dyspnoea                                                         NaN                                                                                                                                                                                                                                                                                                                                                                                                \n",
       "FEV1                                                             NaN                                                                                                                                                                                                                                                                                                                                                                                                \n",
       "FVC                                                              NaN                                                                                                                                                                                                                                                                                                                                                                                                \n",
       "Haemoptysis                                                      NaN                                                                                                                                                                                                                                                                                                                                                                                                \n",
       "PAD                                                              NaN                                                                                                                                                                                                                                                                                                                                                                                                \n",
       "Pain                                                             NaN                                                                                                                                                                                                                                                                                                                                                                                                \n",
       "Performance                                                      NaN                                                                                                                                                                                                                                                                                                                                                                                                \n",
       "Smoking                                                          NaN                                                                                                                                                                                                                                                                                                                                                                                                \n",
       "Tumor_Size                                                       NaN                                                                                                                                                                                                                                                                                                                                                                                                \n",
       "Weakness                                                         NaN                                                                                                                                                                                                                                                                                                                                                                                                "
      ]
     },
     "execution_count": 21,
     "metadata": {},
     "output_type": "execute_result"
    }
   ],
   "source": [
    "pd.concat([df_lr, df_lr_hyper, df_dt, df_dt_hyper, df_rf, df_rf_hyper], axis=1)"
   ]
  },
  {
   "cell_type": "markdown",
   "metadata": {},
   "source": [
    "# Model Evaluation"
   ]
  },
  {
   "cell_type": "code",
   "execution_count": 22,
   "metadata": {},
   "outputs": [],
   "source": [
    "def evaluation(model, title):\n",
    "\n",
    "    model.fit(X_train, y_train)\n",
    "    y_pred = model.predict(X_test)\n",
    "\n",
    "    classes = ['Survived', 'Died']\n",
    "\n",
    "    acc = accuracy_score(y_test, y_pred)\n",
    "    roc_auc = roc_auc_score(y_test, y_pred)\n",
    "    recall = recall_score(y_test, y_pred)\n",
    "    precision = precision_score(y_test, y_pred)\n",
    "    \n",
    "    scores = pd.DataFrame({'Accuracy': acc, 'ROC_AUC': roc_auc,\n",
    "                       'Recall': recall, 'Precision': precision}, index=[title])\n",
    "    \n",
    "    print('\\n \\t \\033[1m', title)\n",
    "    \n",
    "    print('\\n \\033[1m Classification Report \\n \\033[0m', classification_report(y_test, y_pred, target_names=classes))\n",
    "\n",
    "    cnf_matrix = confusion_matrix(y_test, y_pred)\n",
    "\n",
    "    plt.figure(figsize=(10,5))\n",
    "    sns.heatmap(cnf_matrix, cmap=plt.cm.Blues, center=0, annot=True, annot_kws={'size': 26}, xticklabels=classes, yticklabels=classes);\n",
    "\n",
    "\n",
    "    plt.tight_layout()\n",
    "    plt.ylabel('Actual label')\n",
    "    plt.xlabel('Predicted label')\n",
    "\n",
    "    plt.show()\n",
    "    \n",
    "    return scores.transpose()"
   ]
  },
  {
   "cell_type": "code",
   "execution_count": 23,
   "metadata": {},
   "outputs": [
    {
     "name": "stderr",
     "output_type": "stream",
     "text": [
      "C:\\Users\\Anna Danielyan\\Anaconda3\\lib\\site-packages\\sklearn\\metrics\\classification.py:1135: UndefinedMetricWarning: Precision is ill-defined and being set to 0.0 due to no predicted samples.\n",
      "  'precision', 'predicted', average, warn_for)\n"
     ]
    },
    {
     "name": "stdout",
     "output_type": "stream",
     "text": [
      "\n",
      " \t \u001b[1m Default Logistic Regression\n",
      "\n",
      " \u001b[1m Classification Report \n",
      " \u001b[0m              precision    recall  f1-score   support\n",
      "\n",
      "   Survived       0.79      1.00      0.88        73\n",
      "       Died       0.00      0.00      0.00        19\n",
      "\n",
      "avg / total       0.63      0.79      0.70        92\n",
      "\n"
     ]
    },
    {
     "name": "stderr",
     "output_type": "stream",
     "text": [
      "C:\\Users\\Anna Danielyan\\Anaconda3\\lib\\site-packages\\sklearn\\metrics\\classification.py:1135: UndefinedMetricWarning: Precision and F-score are ill-defined and being set to 0.0 in labels with no predicted samples.\n",
      "  'precision', 'predicted', average, warn_for)\n"
     ]
    },
    {
     "data": {
      "image/png": "[encoded data removed]",
      "text/plain": [
       "<Figure size 720x360 with 2 Axes>"
      ]
     },
     "metadata": {},
     "output_type": "display_data"
    }
   ],
   "source": [
    "sc_lr = evaluation(lr, 'Default Logistic Regression')"
   ]
  },
  {
   "cell_type": "code",
   "execution_count": 24,
   "metadata": {},
   "outputs": [
    {
     "name": "stderr",
     "output_type": "stream",
     "text": [
      "C:\\Users\\Anna Danielyan\\Anaconda3\\lib\\site-packages\\sklearn\\metrics\\classification.py:1135: UndefinedMetricWarning: Precision is ill-defined and being set to 0.0 due to no predicted samples.\n",
      "  'precision', 'predicted', average, warn_for)\n",
      "C:\\Users\\Anna Danielyan\\Anaconda3\\lib\\site-packages\\sklearn\\metrics\\classification.py:1135: UndefinedMetricWarning: Precision and F-score are ill-defined and being set to 0.0 in labels with no predicted samples.\n",
      "  'precision', 'predicted', average, warn_for)\n"
     ]
    },
    {
     "name": "stdout",
     "output_type": "stream",
     "text": [
      "\n",
      " \t \u001b[1m Modified Logistic Regression\n",
      "\n",
      " \u001b[1m Classification Report \n",
      " \u001b[0m              precision    recall  f1-score   support\n",
      "\n",
      "   Survived       0.79      1.00      0.88        73\n",
      "       Died       0.00      0.00      0.00        19\n",
      "\n",
      "avg / total       0.63      0.79      0.70        92\n",
      "\n"
     ]
    },
    {
     "data": {
      "image/png": "[encoded data removed]",
      "text/plain": [
       "<Figure size 720x360 with 2 Axes>"
      ]
     },
     "metadata": {},
     "output_type": "display_data"
    }
   ],
   "source": [
    "sc_lr_hyper = evaluation(lr_hyper, 'Modified Logistic Regression')"
   ]
  },
  {
   "cell_type": "code",
   "execution_count": 25,
   "metadata": {},
   "outputs": [
    {
     "name": "stdout",
     "output_type": "stream",
     "text": [
      "\n",
      " \t \u001b[1m Default Decision Tree\n",
      "\n",
      " \u001b[1m Classification Report \n",
      " \u001b[0m              precision    recall  f1-score   support\n",
      "\n",
      "   Survived       0.81      0.92      0.86        73\n",
      "       Died       0.33      0.16      0.21        19\n",
      "\n",
      "avg / total       0.71      0.76      0.73        92\n",
      "\n"
     ]
    },
    {
     "data": {
      "image/png": "[encoded data removed]",
      "text/plain": [
       "<Figure size 720x360 with 2 Axes>"
      ]
     },
     "metadata": {},
     "output_type": "display_data"
    }
   ],
   "source": [
    "sc_dt = evaluation(dt, 'Default Decision Tree')"
   ]
  },
  {
   "cell_type": "code",
   "execution_count": 26,
   "metadata": {},
   "outputs": [
    {
     "name": "stdout",
     "output_type": "stream",
     "text": [
      "\n",
      " \t \u001b[1m Modifed Decision Tree\n",
      "\n",
      " \u001b[1m Classification Report \n",
      " \u001b[0m              precision    recall  f1-score   support\n",
      "\n",
      "   Survived       0.83      0.73      0.77        73\n",
      "       Died       0.29      0.42      0.34        19\n",
      "\n",
      "avg / total       0.72      0.66      0.68        92\n",
      "\n"
     ]
    },
    {
     "data": {
      "image/png": "[encoded data removed]",
      "text/plain": [
       "<Figure size 720x360 with 2 Axes>"
      ]
     },
     "metadata": {},
     "output_type": "display_data"
    }
   ],
   "source": [
    "sc_dt_hyper = evaluation(dt_hyper, 'Modifed Decision Tree')"
   ]
  },
  {
   "cell_type": "code",
   "execution_count": 27,
   "metadata": {},
   "outputs": [
    {
     "name": "stdout",
     "output_type": "stream",
     "text": [
      "\n",
      " \t \u001b[1m Default Random Forest\n",
      "\n",
      " \u001b[1m Classification Report \n",
      " \u001b[0m              precision    recall  f1-score   support\n",
      "\n",
      "   Survived       0.79      1.00      0.88        73\n",
      "       Died       0.00      0.00      0.00        19\n",
      "\n",
      "avg / total       0.63      0.79      0.70        92\n",
      "\n"
     ]
    },
    {
     "name": "stderr",
     "output_type": "stream",
     "text": [
      "C:\\Users\\Anna Danielyan\\Anaconda3\\lib\\site-packages\\sklearn\\metrics\\classification.py:1135: UndefinedMetricWarning: Precision is ill-defined and being set to 0.0 due to no predicted samples.\n",
      "  'precision', 'predicted', average, warn_for)\n",
      "C:\\Users\\Anna Danielyan\\Anaconda3\\lib\\site-packages\\sklearn\\metrics\\classification.py:1135: UndefinedMetricWarning: Precision and F-score are ill-defined and being set to 0.0 in labels with no predicted samples.\n",
      "  'precision', 'predicted', average, warn_for)\n"
     ]
    },
    {
     "data": {
      "image/png": "[encoded data removed]",
      "text/plain": [
       "<Figure size 720x360 with 2 Axes>"
      ]
     },
     "metadata": {},
     "output_type": "display_data"
    }
   ],
   "source": [
    "sc_rf = evaluation(rf, 'Default Random Forest')"
   ]
  },
  {
   "cell_type": "code",
   "execution_count": 28,
   "metadata": {},
   "outputs": [
    {
     "name": "stderr",
     "output_type": "stream",
     "text": [
      "C:\\Users\\Anna Danielyan\\Anaconda3\\lib\\site-packages\\sklearn\\metrics\\classification.py:1135: UndefinedMetricWarning: Precision and F-score are ill-defined and being set to 0.0 in labels with no predicted samples.\n",
      "  'precision', 'predicted', average, warn_for)\n"
     ]
    },
    {
     "name": "stdout",
     "output_type": "stream",
     "text": [
      "\n",
      " \t \u001b[1m Modified Random Forest\n",
      "\n",
      " \u001b[1m Classification Report \n",
      " \u001b[0m              precision    recall  f1-score   support\n",
      "\n",
      "   Survived       0.00      0.00      0.00        73\n",
      "       Died       0.21      1.00      0.34        19\n",
      "\n",
      "avg / total       0.04      0.21      0.07        92\n",
      "\n"
     ]
    },
    {
     "data": {
      "image/png": "[encoded data removed]",
      "text/plain": [
       "<Figure size 720x360 with 2 Axes>"
      ]
     },
     "metadata": {},
     "output_type": "display_data"
    }
   ],
   "source": [
    "sc_rf_hyper = evaluation(rf_hyper, 'Modified Random Forest')"
   ]
  },
  {
   "cell_type": "code",
   "execution_count": 29,
   "metadata": {},
   "outputs": [
    {
     "data": {
      "text/html": [
       "<div>\n",
       "<style scoped>\n",
       "    .dataframe tbody tr th:only-of-type {\n",
       "        vertical-align: middle;\n",
       "    }\n",
       "\n",
       "    .dataframe tbody tr th {\n",
       "        vertical-align: top;\n",
       "    }\n",
       "\n",
       "    .dataframe thead th {\n",
       "        text-align: right;\n",
       "    }\n",
       "</style>\n",
       "<table border=\"1\" class=\"dataframe\">\n",
       "  <thead>\n",
       "    <tr style=\"text-align: right;\">\n",
       "      <th></th>\n",
       "      <th>Default Logistic Regression</th>\n",
       "      <th>Modified Logistic Regression</th>\n",
       "      <th>Default Decision Tree</th>\n",
       "      <th>Modifed Decision Tree</th>\n",
       "      <th>Default Random Forest</th>\n",
       "      <th>Modified Random Forest</th>\n",
       "    </tr>\n",
       "  </thead>\n",
       "  <tbody>\n",
       "    <tr>\n",
       "      <th>Accuracy</th>\n",
       "      <td>0.793478</td>\n",
       "      <td>0.793478</td>\n",
       "      <td>0.760870</td>\n",
       "      <td>0.663043</td>\n",
       "      <td>0.793478</td>\n",
       "      <td>0.206522</td>\n",
       "    </tr>\n",
       "    <tr>\n",
       "      <th>ROC_AUC</th>\n",
       "      <td>0.500000</td>\n",
       "      <td>0.500000</td>\n",
       "      <td>0.537851</td>\n",
       "      <td>0.573540</td>\n",
       "      <td>0.500000</td>\n",
       "      <td>0.500000</td>\n",
       "    </tr>\n",
       "    <tr>\n",
       "      <th>Recall</th>\n",
       "      <td>0.000000</td>\n",
       "      <td>0.000000</td>\n",
       "      <td>0.157895</td>\n",
       "      <td>0.421053</td>\n",
       "      <td>0.000000</td>\n",
       "      <td>1.000000</td>\n",
       "    </tr>\n",
       "    <tr>\n",
       "      <th>Precision</th>\n",
       "      <td>0.000000</td>\n",
       "      <td>0.000000</td>\n",
       "      <td>0.333333</td>\n",
       "      <td>0.285714</td>\n",
       "      <td>0.000000</td>\n",
       "      <td>0.206522</td>\n",
       "    </tr>\n",
       "  </tbody>\n",
       "</table>\n",
       "</div>"
      ],
      "text/plain": [
       "           Default Logistic Regression  Modified Logistic Regression  \\\n",
       "Accuracy                      0.793478                      0.793478   \n",
       "ROC_AUC                       0.500000                      0.500000   \n",
       "Recall                        0.000000                      0.000000   \n",
       "Precision                     0.000000                      0.000000   \n",
       "\n",
       "           Default Decision Tree  Modifed Decision Tree  \\\n",
       "Accuracy                0.760870               0.663043   \n",
       "ROC_AUC                 0.537851               0.573540   \n",
       "Recall                  0.157895               0.421053   \n",
       "Precision               0.333333               0.285714   \n",
       "\n",
       "           Default Random Forest  Modified Random Forest  \n",
       "Accuracy                0.793478                0.206522  \n",
       "ROC_AUC                 0.500000                0.500000  \n",
       "Recall                  0.000000                1.000000  \n",
       "Precision               0.000000                0.206522  "
      ]
     },
     "execution_count": 29,
     "metadata": {},
     "output_type": "execute_result"
    }
   ],
   "source": [
    "pd.concat([sc_lr, sc_lr_hyper, sc_dt, sc_dt_hyper, sc_rf, sc_rf_hyper], axis=1)"
   ]
  },
  {
   "cell_type": "code",
   "execution_count": null,
   "metadata": {},
   "outputs": [],
   "source": []
  }
 ],
 "metadata": {
  "kernelspec": {
   "display_name": "Python 3",
   "language": "python",
   "name": "python3"
  },
  "language_info": {
   "codemirror_mode": {
    "name": "ipython",
    "version": 3
   },
   "file_extension": ".py",
   "mimetype": "text/x-python",
   "name": "python",
   "nbconvert_exporter": "python",
   "pygments_lexer": "ipython3",
   "version": "3.6.5"
  }
 },
 "nbformat": 4,
 "nbformat_minor": 2
}
